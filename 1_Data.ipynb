{
 "cells": [
  {
   "cell_type": "markdown",
   "metadata": {
    "id": "2uH1KXctgnoJ"
   },
   "source": [
    "# Part 1. Install Packages"
   ]
  },
  {
   "cell_type": "code",
   "metadata": {
    "id": "a2oD49e_N_05",
    "ExecuteTime": {
     "end_time": "2025-07-16T08:27:26.798370Z",
     "start_time": "2025-07-16T08:26:48.733951Z"
    }
   },
   "source": [
    "## install finrl library\n",
    "!pip install git+https://github.com/AI4Finance-Foundation/FinRL.git\n",
    "## install additional packages for dynamic weighting\n",
    "!pip install torch scikit-learn seaborn"
   ],
   "outputs": [
    {
     "name": "stdout",
     "output_type": "stream",
     "text": [
      "Collecting git+https://github.com/AI4Finance-Foundation/FinRL.git\n",
      "  Cloning https://github.com/AI4Finance-Foundation/FinRL.git to c:\\users\\ronit khanna\\appdata\\local\\temp\\pip-req-build-ytfif_5g\n",
      "  Resolved https://github.com/AI4Finance-Foundation/FinRL.git to commit efc711f35e19b9ca5c5d0da2f8812f4719d613a8\n",
      "  Installing build dependencies: started\n",
      "  Installing build dependencies: finished with status 'done'\n",
      "  Getting requirements to build wheel: started\n",
      "  Getting requirements to build wheel: finished with status 'done'\n",
      "  Preparing metadata (pyproject.toml): started\n",
      "  Preparing metadata (pyproject.toml): finished with status 'done'\n",
      "Requirement already satisfied: alpaca-py<0.38,>=0.37 in c:\\users\\ronit khanna\\onedrive\\desktop\\hybrid_rl_trading\\.venv\\lib\\site-packages (from finrl==0.3.8) (0.37.0)\n",
      "Requirement already satisfied: alpaca-trade-api<4,>=3 in c:\\users\\ronit khanna\\onedrive\\desktop\\hybrid_rl_trading\\.venv\\lib\\site-packages (from finrl==0.3.8) (3.2.0)\n",
      "Requirement already satisfied: ccxt<4,>=3 in c:\\users\\ronit khanna\\onedrive\\desktop\\hybrid_rl_trading\\.venv\\lib\\site-packages (from finrl==0.3.8) (3.1.60)\n",
      "Collecting elegantrl@ git+https://github.com/AI4Finance-Foundation/ElegantRL.git (from finrl==0.3.8)\n",
      "  Cloning https://github.com/AI4Finance-Foundation/ElegantRL.git to c:\\users\\ronit khanna\\appdata\\local\\temp\\pip-install-elwktfk2\\elegantrl_0bf708ac06084cd4993e662062d5ddff\n",
      "  Resolved https://github.com/AI4Finance-Foundation/ElegantRL.git to commit b2ec84b19a82e6f18b781743d8bf37ca27134238\n",
      "  Installing build dependencies: started\n",
      "  Installing build dependencies: finished with status 'done'\n",
      "  Getting requirements to build wheel: started\n",
      "  Getting requirements to build wheel: finished with status 'done'\n",
      "  Preparing metadata (pyproject.toml): started\n",
      "  Preparing metadata (pyproject.toml): finished with status 'done'\n",
      "Requirement already satisfied: jqdatasdk<2,>=1 in c:\\users\\ronit khanna\\onedrive\\desktop\\hybrid_rl_trading\\.venv\\lib\\site-packages (from finrl==0.3.8) (1.9.7)\n",
      "Requirement already satisfied: pandas-market-calendars<6,>=5 in c:\\users\\ronit khanna\\onedrive\\desktop\\hybrid_rl_trading\\.venv\\lib\\site-packages (from finrl==0.3.8) (5.1.1)\n",
      "Requirement already satisfied: pyfolio-reloaded<0.10,>=0.9 in c:\\users\\ronit khanna\\onedrive\\desktop\\hybrid_rl_trading\\.venv\\lib\\site-packages (from finrl==0.3.8) (0.9.9)\n",
      "Requirement already satisfied: pyportfolioopt<2,>=1 in c:\\users\\ronit khanna\\onedrive\\desktop\\hybrid_rl_trading\\.venv\\lib\\site-packages (from finrl==0.3.8) (1.5.6)\n",
      "Requirement already satisfied: ray<3,>=2 in c:\\users\\ronit khanna\\onedrive\\desktop\\hybrid_rl_trading\\.venv\\lib\\site-packages (from ray[default,tune]<3,>=2->finrl==0.3.8) (2.47.1)\n",
      "Requirement already satisfied: scikit-learn<2,>=1 in c:\\users\\ronit khanna\\onedrive\\desktop\\hybrid_rl_trading\\.venv\\lib\\site-packages (from finrl==0.3.8) (1.7.0)\n",
      "Requirement already satisfied: selenium<5,>=4 in c:\\users\\ronit khanna\\onedrive\\desktop\\hybrid_rl_trading\\.venv\\lib\\site-packages (from finrl==0.3.8) (4.32.0)\n",
      "Requirement already satisfied: stable-baselines3>=2.0.0a5 in c:\\users\\ronit khanna\\onedrive\\desktop\\hybrid_rl_trading\\.venv\\lib\\site-packages (from stable-baselines3[extra]>=2.0.0a5->finrl==0.3.8) (2.7.0a1)\n",
      "Requirement already satisfied: stockstats<0.6,>=0.5 in c:\\users\\ronit khanna\\onedrive\\desktop\\hybrid_rl_trading\\.venv\\lib\\site-packages (from finrl==0.3.8) (0.5.4)\n",
      "Requirement already satisfied: webdriver-manager<5,>=4 in c:\\users\\ronit khanna\\onedrive\\desktop\\hybrid_rl_trading\\.venv\\lib\\site-packages (from finrl==0.3.8) (4.0.2)\n",
      "Requirement already satisfied: wrds<4,>=3 in c:\\users\\ronit khanna\\onedrive\\desktop\\hybrid_rl_trading\\.venv\\lib\\site-packages (from finrl==0.3.8) (3.3.0)\n",
      "Requirement already satisfied: yfinance<0.3,>=0.2 in c:\\users\\ronit khanna\\onedrive\\desktop\\hybrid_rl_trading\\.venv\\lib\\site-packages (from finrl==0.3.8) (0.2.58)\n",
      "Requirement already satisfied: th in c:\\users\\ronit khanna\\onedrive\\desktop\\hybrid_rl_trading\\.venv\\lib\\site-packages (from elegantrl@ git+https://github.com/AI4Finance-Foundation/ElegantRL.git->finrl==0.3.8) (0.4.1)\n",
      "Requirement already satisfied: numpy in c:\\users\\ronit khanna\\onedrive\\desktop\\hybrid_rl_trading\\.venv\\lib\\site-packages (from elegantrl@ git+https://github.com/AI4Finance-Foundation/ElegantRL.git->finrl==0.3.8) (2.2.6)\n",
      "Requirement already satisfied: gymnasium in c:\\users\\ronit khanna\\onedrive\\desktop\\hybrid_rl_trading\\.venv\\lib\\site-packages (from elegantrl@ git+https://github.com/AI4Finance-Foundation/ElegantRL.git->finrl==0.3.8) (1.2.0)\n",
      "Requirement already satisfied: matplotlib in c:\\users\\ronit khanna\\onedrive\\desktop\\hybrid_rl_trading\\.venv\\lib\\site-packages (from elegantrl@ git+https://github.com/AI4Finance-Foundation/ElegantRL.git->finrl==0.3.8) (3.10.3)\n",
      "Requirement already satisfied: msgpack<2.0.0,>=1.0.3 in c:\\users\\ronit khanna\\onedrive\\desktop\\hybrid_rl_trading\\.venv\\lib\\site-packages (from alpaca-py<0.38,>=0.37->finrl==0.3.8) (1.0.3)\n",
      "Requirement already satisfied: pandas>=1.5.3 in c:\\users\\ronit khanna\\onedrive\\desktop\\hybrid_rl_trading\\.venv\\lib\\site-packages (from alpaca-py<0.38,>=0.37->finrl==0.3.8) (2.2.3)\n",
      "Requirement already satisfied: pydantic<3.0.0,>=2.0.3 in c:\\users\\ronit khanna\\onedrive\\desktop\\hybrid_rl_trading\\.venv\\lib\\site-packages (from alpaca-py<0.38,>=0.37->finrl==0.3.8) (2.11.7)\n",
      "Requirement already satisfied: requests<3.0.0,>=2.30.0 in c:\\users\\ronit khanna\\onedrive\\desktop\\hybrid_rl_trading\\.venv\\lib\\site-packages (from alpaca-py<0.38,>=0.37->finrl==0.3.8) (2.32.4)\n",
      "Requirement already satisfied: sseclient-py<2.0.0,>=1.7.2 in c:\\users\\ronit khanna\\onedrive\\desktop\\hybrid_rl_trading\\.venv\\lib\\site-packages (from alpaca-py<0.38,>=0.37->finrl==0.3.8) (1.8.0)\n",
      "Requirement already satisfied: websockets>=10.4 in c:\\users\\ronit khanna\\onedrive\\desktop\\hybrid_rl_trading\\.venv\\lib\\site-packages (from alpaca-py<0.38,>=0.37->finrl==0.3.8) (10.4)\n",
      "Requirement already satisfied: urllib3<2,>1.24 in c:\\users\\ronit khanna\\onedrive\\desktop\\hybrid_rl_trading\\.venv\\lib\\site-packages (from alpaca-trade-api<4,>=3->finrl==0.3.8) (1.26.20)\n",
      "Requirement already satisfied: websocket-client<2,>=0.56.0 in c:\\users\\ronit khanna\\onedrive\\desktop\\hybrid_rl_trading\\.venv\\lib\\site-packages (from alpaca-trade-api<4,>=3->finrl==0.3.8) (1.8.0)\n",
      "Requirement already satisfied: aiohttp<4,>=3.8.3 in c:\\users\\ronit khanna\\onedrive\\desktop\\hybrid_rl_trading\\.venv\\lib\\site-packages (from alpaca-trade-api<4,>=3->finrl==0.3.8) (3.12.14)\n",
      "Requirement already satisfied: PyYAML==6.0.1 in c:\\users\\ronit khanna\\onedrive\\desktop\\hybrid_rl_trading\\.venv\\lib\\site-packages (from alpaca-trade-api<4,>=3->finrl==0.3.8) (6.0.1)\n",
      "Requirement already satisfied: deprecation==2.1.0 in c:\\users\\ronit khanna\\onedrive\\desktop\\hybrid_rl_trading\\.venv\\lib\\site-packages (from alpaca-trade-api<4,>=3->finrl==0.3.8) (2.1.0)\n",
      "Requirement already satisfied: packaging in c:\\users\\ronit khanna\\onedrive\\desktop\\hybrid_rl_trading\\.venv\\lib\\site-packages (from deprecation==2.1.0->alpaca-trade-api<4,>=3->finrl==0.3.8) (24.2)\n",
      "Requirement already satisfied: aiohappyeyeballs>=2.5.0 in c:\\users\\ronit khanna\\onedrive\\desktop\\hybrid_rl_trading\\.venv\\lib\\site-packages (from aiohttp<4,>=3.8.3->alpaca-trade-api<4,>=3->finrl==0.3.8) (2.6.1)\n",
      "Requirement already satisfied: aiosignal>=1.4.0 in c:\\users\\ronit khanna\\onedrive\\desktop\\hybrid_rl_trading\\.venv\\lib\\site-packages (from aiohttp<4,>=3.8.3->alpaca-trade-api<4,>=3->finrl==0.3.8) (1.4.0)\n",
      "Requirement already satisfied: attrs>=17.3.0 in c:\\users\\ronit khanna\\onedrive\\desktop\\hybrid_rl_trading\\.venv\\lib\\site-packages (from aiohttp<4,>=3.8.3->alpaca-trade-api<4,>=3->finrl==0.3.8) (25.3.0)\n",
      "Requirement already satisfied: frozenlist>=1.1.1 in c:\\users\\ronit khanna\\onedrive\\desktop\\hybrid_rl_trading\\.venv\\lib\\site-packages (from aiohttp<4,>=3.8.3->alpaca-trade-api<4,>=3->finrl==0.3.8) (1.7.0)\n",
      "Requirement already satisfied: multidict<7.0,>=4.5 in c:\\users\\ronit khanna\\onedrive\\desktop\\hybrid_rl_trading\\.venv\\lib\\site-packages (from aiohttp<4,>=3.8.3->alpaca-trade-api<4,>=3->finrl==0.3.8) (6.6.3)\n",
      "Requirement already satisfied: propcache>=0.2.0 in c:\\users\\ronit khanna\\onedrive\\desktop\\hybrid_rl_trading\\.venv\\lib\\site-packages (from aiohttp<4,>=3.8.3->alpaca-trade-api<4,>=3->finrl==0.3.8) (0.3.2)\n",
      "Requirement already satisfied: yarl<2.0,>=1.17.0 in c:\\users\\ronit khanna\\onedrive\\desktop\\hybrid_rl_trading\\.venv\\lib\\site-packages (from aiohttp<4,>=3.8.3->alpaca-trade-api<4,>=3->finrl==0.3.8) (1.20.1)\n",
      "Requirement already satisfied: setuptools>=60.9.0 in c:\\users\\ronit khanna\\onedrive\\desktop\\hybrid_rl_trading\\.venv\\lib\\site-packages (from ccxt<4,>=3->finrl==0.3.8) (80.3.1)\n",
      "Requirement already satisfied: certifi>=2018.1.18 in c:\\users\\ronit khanna\\onedrive\\desktop\\hybrid_rl_trading\\.venv\\lib\\site-packages (from ccxt<4,>=3->finrl==0.3.8) (2025.7.14)\n",
      "Requirement already satisfied: cryptography>=2.6.1 in c:\\users\\ronit khanna\\onedrive\\desktop\\hybrid_rl_trading\\.venv\\lib\\site-packages (from ccxt<4,>=3->finrl==0.3.8) (45.0.5)\n",
      "Requirement already satisfied: aiodns>=1.1.1 in c:\\users\\ronit khanna\\onedrive\\desktop\\hybrid_rl_trading\\.venv\\lib\\site-packages (from ccxt<4,>=3->finrl==0.3.8) (3.5.0)\n",
      "Requirement already satisfied: six in c:\\users\\ronit khanna\\onedrive\\desktop\\hybrid_rl_trading\\.venv\\lib\\site-packages (from jqdatasdk<2,>=1->finrl==0.3.8) (1.17.0)\n",
      "Requirement already satisfied: SQLAlchemy>=1.2.8 in c:\\users\\ronit khanna\\onedrive\\desktop\\hybrid_rl_trading\\.venv\\lib\\site-packages (from jqdatasdk<2,>=1->finrl==0.3.8) (2.0.41)\n",
      "Requirement already satisfied: pymysql>=0.7.6 in c:\\users\\ronit khanna\\onedrive\\desktop\\hybrid_rl_trading\\.venv\\lib\\site-packages (from jqdatasdk<2,>=1->finrl==0.3.8) (1.1.1)\n",
      "Requirement already satisfied: thriftpy2<=0.4.20,>=0.3.9 in c:\\users\\ronit khanna\\onedrive\\desktop\\hybrid_rl_trading\\.venv\\lib\\site-packages (from jqdatasdk<2,>=1->finrl==0.3.8) (0.4.20)\n",
      "Requirement already satisfied: tzdata in c:\\users\\ronit khanna\\onedrive\\desktop\\hybrid_rl_trading\\.venv\\lib\\site-packages (from pandas-market-calendars<6,>=5->finrl==0.3.8) (2025.2)\n",
      "Requirement already satisfied: python-dateutil in c:\\users\\ronit khanna\\onedrive\\desktop\\hybrid_rl_trading\\.venv\\lib\\site-packages (from pandas-market-calendars<6,>=5->finrl==0.3.8) (2.9.0.post0)\n",
      "Requirement already satisfied: exchange-calendars>=3.3 in c:\\users\\ronit khanna\\onedrive\\desktop\\hybrid_rl_trading\\.venv\\lib\\site-packages (from pandas-market-calendars<6,>=5->finrl==0.3.8) (4.11)\n",
      "Requirement already satisfied: annotated-types>=0.6.0 in c:\\users\\ronit khanna\\onedrive\\desktop\\hybrid_rl_trading\\.venv\\lib\\site-packages (from pydantic<3.0.0,>=2.0.3->alpaca-py<0.38,>=0.37->finrl==0.3.8) (0.7.0)\n",
      "Requirement already satisfied: pydantic-core==2.33.2 in c:\\users\\ronit khanna\\onedrive\\desktop\\hybrid_rl_trading\\.venv\\lib\\site-packages (from pydantic<3.0.0,>=2.0.3->alpaca-py<0.38,>=0.37->finrl==0.3.8) (2.33.2)\n",
      "Requirement already satisfied: typing-extensions>=4.12.2 in c:\\users\\ronit khanna\\onedrive\\desktop\\hybrid_rl_trading\\.venv\\lib\\site-packages (from pydantic<3.0.0,>=2.0.3->alpaca-py<0.38,>=0.37->finrl==0.3.8) (4.14.1)\n",
      "Requirement already satisfied: typing-inspection>=0.4.0 in c:\\users\\ronit khanna\\onedrive\\desktop\\hybrid_rl_trading\\.venv\\lib\\site-packages (from pydantic<3.0.0,>=2.0.3->alpaca-py<0.38,>=0.37->finrl==0.3.8) (0.4.1)\n",
      "Requirement already satisfied: ipython>=3.2.3 in c:\\users\\ronit khanna\\onedrive\\desktop\\hybrid_rl_trading\\.venv\\lib\\site-packages (from pyfolio-reloaded<0.10,>=0.9->finrl==0.3.8) (9.4.0)\n",
      "Requirement already satisfied: pytz>=2014.10 in c:\\users\\ronit khanna\\onedrive\\desktop\\hybrid_rl_trading\\.venv\\lib\\site-packages (from pyfolio-reloaded<0.10,>=0.9->finrl==0.3.8) (2025.2)\n",
      "Requirement already satisfied: scipy>=0.14.0 in c:\\users\\ronit khanna\\onedrive\\desktop\\hybrid_rl_trading\\.venv\\lib\\site-packages (from pyfolio-reloaded<0.10,>=0.9->finrl==0.3.8) (1.16.0)\n",
      "Requirement already satisfied: seaborn>=0.7.1 in c:\\users\\ronit khanna\\onedrive\\desktop\\hybrid_rl_trading\\.venv\\lib\\site-packages (from pyfolio-reloaded<0.10,>=0.9->finrl==0.3.8) (0.13.2)\n",
      "Requirement already satisfied: empyrical-reloaded>=0.5.9 in c:\\users\\ronit khanna\\onedrive\\desktop\\hybrid_rl_trading\\.venv\\lib\\site-packages (from pyfolio-reloaded<0.10,>=0.9->finrl==0.3.8) (0.5.12)\n",
      "Requirement already satisfied: cvxpy>=1.1.19 in c:\\users\\ronit khanna\\onedrive\\desktop\\hybrid_rl_trading\\.venv\\lib\\site-packages (from pyportfolioopt<2,>=1->finrl==0.3.8) (1.7.0)\n",
      "Requirement already satisfied: ecos<3.0.0,>=2.0.14 in c:\\users\\ronit khanna\\onedrive\\desktop\\hybrid_rl_trading\\.venv\\lib\\site-packages (from pyportfolioopt<2,>=1->finrl==0.3.8) (2.0.14)\n",
      "Requirement already satisfied: plotly<6.0.0,>=5.0.0 in c:\\users\\ronit khanna\\onedrive\\desktop\\hybrid_rl_trading\\.venv\\lib\\site-packages (from pyportfolioopt<2,>=1->finrl==0.3.8) (5.24.1)\n",
      "Requirement already satisfied: tenacity>=6.2.0 in c:\\users\\ronit khanna\\onedrive\\desktop\\hybrid_rl_trading\\.venv\\lib\\site-packages (from plotly<6.0.0,>=5.0.0->pyportfolioopt<2,>=1->finrl==0.3.8) (9.1.2)\n",
      "Requirement already satisfied: click>=7.0 in c:\\users\\ronit khanna\\onedrive\\desktop\\hybrid_rl_trading\\.venv\\lib\\site-packages (from ray<3,>=2->ray[default,tune]<3,>=2->finrl==0.3.8) (8.2.1)\n",
      "Requirement already satisfied: filelock in c:\\users\\ronit khanna\\onedrive\\desktop\\hybrid_rl_trading\\.venv\\lib\\site-packages (from ray<3,>=2->ray[default,tune]<3,>=2->finrl==0.3.8) (3.18.0)\n",
      "Requirement already satisfied: jsonschema in c:\\users\\ronit khanna\\onedrive\\desktop\\hybrid_rl_trading\\.venv\\lib\\site-packages (from ray<3,>=2->ray[default,tune]<3,>=2->finrl==0.3.8) (4.24.0)\n",
      "Requirement already satisfied: protobuf!=3.19.5,>=3.15.3 in c:\\users\\ronit khanna\\onedrive\\desktop\\hybrid_rl_trading\\.venv\\lib\\site-packages (from ray<3,>=2->ray[default,tune]<3,>=2->finrl==0.3.8) (6.31.1)\n",
      "Requirement already satisfied: aiohttp_cors in c:\\users\\ronit khanna\\onedrive\\desktop\\hybrid_rl_trading\\.venv\\lib\\site-packages (from ray[default,tune]<3,>=2->finrl==0.3.8) (0.8.1)\n",
      "Requirement already satisfied: colorful in c:\\users\\ronit khanna\\onedrive\\desktop\\hybrid_rl_trading\\.venv\\lib\\site-packages (from ray[default,tune]<3,>=2->finrl==0.3.8) (0.5.7)\n",
      "Requirement already satisfied: py-spy>=0.2.0 in c:\\users\\ronit khanna\\onedrive\\desktop\\hybrid_rl_trading\\.venv\\lib\\site-packages (from ray[default,tune]<3,>=2->finrl==0.3.8) (0.4.0)\n",
      "Requirement already satisfied: grpcio>=1.42.0 in c:\\users\\ronit khanna\\onedrive\\desktop\\hybrid_rl_trading\\.venv\\lib\\site-packages (from ray[default,tune]<3,>=2->finrl==0.3.8) (1.73.1)\n",
      "Requirement already satisfied: opencensus in c:\\users\\ronit khanna\\onedrive\\desktop\\hybrid_rl_trading\\.venv\\lib\\site-packages (from ray[default,tune]<3,>=2->finrl==0.3.8) (0.11.4)\n",
      "Requirement already satisfied: opentelemetry-sdk in c:\\users\\ronit khanna\\onedrive\\desktop\\hybrid_rl_trading\\.venv\\lib\\site-packages (from ray[default,tune]<3,>=2->finrl==0.3.8) (1.35.0)\n",
      "Requirement already satisfied: opentelemetry-exporter-prometheus in c:\\users\\ronit khanna\\onedrive\\desktop\\hybrid_rl_trading\\.venv\\lib\\site-packages (from ray[default,tune]<3,>=2->finrl==0.3.8) (0.56b0)\n",
      "Requirement already satisfied: opentelemetry-proto in c:\\users\\ronit khanna\\onedrive\\desktop\\hybrid_rl_trading\\.venv\\lib\\site-packages (from ray[default,tune]<3,>=2->finrl==0.3.8) (1.35.0)\n",
      "Requirement already satisfied: prometheus_client>=0.7.1 in c:\\users\\ronit khanna\\onedrive\\desktop\\hybrid_rl_trading\\.venv\\lib\\site-packages (from ray[default,tune]<3,>=2->finrl==0.3.8) (0.22.1)\n",
      "Requirement already satisfied: smart_open in c:\\users\\ronit khanna\\onedrive\\desktop\\hybrid_rl_trading\\.venv\\lib\\site-packages (from ray[default,tune]<3,>=2->finrl==0.3.8) (7.3.0.post1)\n",
      "Requirement already satisfied: virtualenv!=20.21.1,>=20.0.24 in c:\\users\\ronit khanna\\onedrive\\desktop\\hybrid_rl_trading\\.venv\\lib\\site-packages (from ray[default,tune]<3,>=2->finrl==0.3.8) (20.31.2)\n",
      "Requirement already satisfied: tensorboardX>=1.9 in c:\\users\\ronit khanna\\onedrive\\desktop\\hybrid_rl_trading\\.venv\\lib\\site-packages (from ray[default,tune]<3,>=2->finrl==0.3.8) (2.6.4)\n",
      "Requirement already satisfied: pyarrow>=9.0.0 in c:\\users\\ronit khanna\\onedrive\\desktop\\hybrid_rl_trading\\.venv\\lib\\site-packages (from ray[default,tune]<3,>=2->finrl==0.3.8) (20.0.0)\n",
      "Requirement already satisfied: fsspec in c:\\users\\ronit khanna\\onedrive\\desktop\\hybrid_rl_trading\\.venv\\lib\\site-packages (from ray[default,tune]<3,>=2->finrl==0.3.8) (2025.7.0)\n",
      "Requirement already satisfied: charset_normalizer<4,>=2 in c:\\users\\ronit khanna\\onedrive\\desktop\\hybrid_rl_trading\\.venv\\lib\\site-packages (from requests<3.0.0,>=2.30.0->alpaca-py<0.38,>=0.37->finrl==0.3.8) (3.4.2)\n",
      "Requirement already satisfied: idna<4,>=2.5 in c:\\users\\ronit khanna\\onedrive\\desktop\\hybrid_rl_trading\\.venv\\lib\\site-packages (from requests<3.0.0,>=2.30.0->alpaca-py<0.38,>=0.37->finrl==0.3.8) (3.10)\n",
      "Requirement already satisfied: joblib>=1.2.0 in c:\\users\\ronit khanna\\onedrive\\desktop\\hybrid_rl_trading\\.venv\\lib\\site-packages (from scikit-learn<2,>=1->finrl==0.3.8) (1.5.1)\n",
      "Requirement already satisfied: threadpoolctl>=3.1.0 in c:\\users\\ronit khanna\\onedrive\\desktop\\hybrid_rl_trading\\.venv\\lib\\site-packages (from scikit-learn<2,>=1->finrl==0.3.8) (3.6.0)\n",
      "Requirement already satisfied: trio~=0.17 in c:\\users\\ronit khanna\\onedrive\\desktop\\hybrid_rl_trading\\.venv\\lib\\site-packages (from selenium<5,>=4->finrl==0.3.8) (0.30.0)\n",
      "Requirement already satisfied: trio-websocket~=0.9 in c:\\users\\ronit khanna\\onedrive\\desktop\\hybrid_rl_trading\\.venv\\lib\\site-packages (from selenium<5,>=4->finrl==0.3.8) (0.12.2)\n",
      "Requirement already satisfied: ply<4.0,>=3.4 in c:\\users\\ronit khanna\\onedrive\\desktop\\hybrid_rl_trading\\.venv\\lib\\site-packages (from thriftpy2<=0.4.20,>=0.3.9->jqdatasdk<2,>=1->finrl==0.3.8) (3.11)\n",
      "Requirement already satisfied: sortedcontainers in c:\\users\\ronit khanna\\onedrive\\desktop\\hybrid_rl_trading\\.venv\\lib\\site-packages (from trio~=0.17->selenium<5,>=4->finrl==0.3.8) (2.4.0)\n",
      "Requirement already satisfied: outcome in c:\\users\\ronit khanna\\onedrive\\desktop\\hybrid_rl_trading\\.venv\\lib\\site-packages (from trio~=0.17->selenium<5,>=4->finrl==0.3.8) (1.3.0.post0)\n",
      "Requirement already satisfied: sniffio>=1.3.0 in c:\\users\\ronit khanna\\onedrive\\desktop\\hybrid_rl_trading\\.venv\\lib\\site-packages (from trio~=0.17->selenium<5,>=4->finrl==0.3.8) (1.3.1)\n",
      "Requirement already satisfied: cffi>=1.14 in c:\\users\\ronit khanna\\onedrive\\desktop\\hybrid_rl_trading\\.venv\\lib\\site-packages (from trio~=0.17->selenium<5,>=4->finrl==0.3.8) (1.17.1)\n",
      "Requirement already satisfied: wsproto>=0.14 in c:\\users\\ronit khanna\\onedrive\\desktop\\hybrid_rl_trading\\.venv\\lib\\site-packages (from trio-websocket~=0.9->selenium<5,>=4->finrl==0.3.8) (1.2.0)\n",
      "Requirement already satisfied: PySocks!=1.5.7,<2.0,>=1.5.6 in c:\\users\\ronit khanna\\onedrive\\desktop\\hybrid_rl_trading\\.venv\\lib\\site-packages (from urllib3[socks]<3,>=1.26->selenium<5,>=4->finrl==0.3.8) (1.7.1)\n",
      "Requirement already satisfied: python-dotenv in c:\\users\\ronit khanna\\onedrive\\desktop\\hybrid_rl_trading\\.venv\\lib\\site-packages (from webdriver-manager<5,>=4->finrl==0.3.8) (1.1.1)\n",
      "Requirement already satisfied: psycopg2-binary<2.10,>=2.9 in c:\\users\\ronit khanna\\onedrive\\desktop\\hybrid_rl_trading\\.venv\\lib\\site-packages (from wrds<4,>=3->finrl==0.3.8) (2.9.10)\n",
      "Requirement already satisfied: greenlet>=1 in c:\\users\\ronit khanna\\onedrive\\desktop\\hybrid_rl_trading\\.venv\\lib\\site-packages (from SQLAlchemy>=1.2.8->jqdatasdk<2,>=1->finrl==0.3.8) (3.2.3)\n",
      "Requirement already satisfied: multitasking>=0.0.7 in c:\\users\\ronit khanna\\onedrive\\desktop\\hybrid_rl_trading\\.venv\\lib\\site-packages (from yfinance<0.3,>=0.2->finrl==0.3.8) (0.0.11)\n",
      "Requirement already satisfied: platformdirs>=2.0.0 in c:\\users\\ronit khanna\\onedrive\\desktop\\hybrid_rl_trading\\.venv\\lib\\site-packages (from yfinance<0.3,>=0.2->finrl==0.3.8) (4.3.8)\n",
      "Requirement already satisfied: frozendict>=2.3.4 in c:\\users\\ronit khanna\\onedrive\\desktop\\hybrid_rl_trading\\.venv\\lib\\site-packages (from yfinance<0.3,>=0.2->finrl==0.3.8) (2.4.6)\n",
      "Requirement already satisfied: peewee>=3.16.2 in c:\\users\\ronit khanna\\onedrive\\desktop\\hybrid_rl_trading\\.venv\\lib\\site-packages (from yfinance<0.3,>=0.2->finrl==0.3.8) (3.17.3)\n",
      "Requirement already satisfied: beautifulsoup4>=4.11.1 in c:\\users\\ronit khanna\\onedrive\\desktop\\hybrid_rl_trading\\.venv\\lib\\site-packages (from yfinance<0.3,>=0.2->finrl==0.3.8) (4.13.4)\n",
      "Requirement already satisfied: curl_cffi>=0.7 in c:\\users\\ronit khanna\\onedrive\\desktop\\hybrid_rl_trading\\.venv\\lib\\site-packages (from yfinance<0.3,>=0.2->finrl==0.3.8) (0.12.0)\n",
      "Requirement already satisfied: pycares>=4.9.0 in c:\\users\\ronit khanna\\onedrive\\desktop\\hybrid_rl_trading\\.venv\\lib\\site-packages (from aiodns>=1.1.1->ccxt<4,>=3->finrl==0.3.8) (4.9.0)\n",
      "Requirement already satisfied: soupsieve>1.2 in c:\\users\\ronit khanna\\onedrive\\desktop\\hybrid_rl_trading\\.venv\\lib\\site-packages (from beautifulsoup4>=4.11.1->yfinance<0.3,>=0.2->finrl==0.3.8) (2.7)\n",
      "Requirement already satisfied: pycparser in c:\\users\\ronit khanna\\onedrive\\desktop\\hybrid_rl_trading\\.venv\\lib\\site-packages (from cffi>=1.14->trio~=0.17->selenium<5,>=4->finrl==0.3.8) (2.22)\n",
      "Requirement already satisfied: colorama in c:\\users\\ronit khanna\\onedrive\\desktop\\hybrid_rl_trading\\.venv\\lib\\site-packages (from click>=7.0->ray<3,>=2->ray[default,tune]<3,>=2->finrl==0.3.8) (0.4.6)\n",
      "Requirement already satisfied: osqp>=0.6.2 in c:\\users\\ronit khanna\\onedrive\\desktop\\hybrid_rl_trading\\.venv\\lib\\site-packages (from cvxpy>=1.1.19->pyportfolioopt<2,>=1->finrl==0.3.8) (1.0.4)\n",
      "Requirement already satisfied: clarabel>=0.5.0 in c:\\users\\ronit khanna\\onedrive\\desktop\\hybrid_rl_trading\\.venv\\lib\\site-packages (from cvxpy>=1.1.19->pyportfolioopt<2,>=1->finrl==0.3.8) (0.11.1)\n",
      "Requirement already satisfied: scs>=3.2.4.post1 in c:\\users\\ronit khanna\\onedrive\\desktop\\hybrid_rl_trading\\.venv\\lib\\site-packages (from cvxpy>=1.1.19->pyportfolioopt<2,>=1->finrl==0.3.8) (3.2.7.post2)\n",
      "Requirement already satisfied: bottleneck>=1.3.0 in c:\\users\\ronit khanna\\onedrive\\desktop\\hybrid_rl_trading\\.venv\\lib\\site-packages (from empyrical-reloaded>=0.5.9->pyfolio-reloaded<0.10,>=0.9->finrl==0.3.8) (1.5.0)\n",
      "Requirement already satisfied: pyluach in c:\\users\\ronit khanna\\onedrive\\desktop\\hybrid_rl_trading\\.venv\\lib\\site-packages (from exchange-calendars>=3.3->pandas-market-calendars<6,>=5->finrl==0.3.8) (2.2.0)\n",
      "Requirement already satisfied: toolz in c:\\users\\ronit khanna\\onedrive\\desktop\\hybrid_rl_trading\\.venv\\lib\\site-packages (from exchange-calendars>=3.3->pandas-market-calendars<6,>=5->finrl==0.3.8) (1.0.0)\n",
      "Requirement already satisfied: korean_lunar_calendar in c:\\users\\ronit khanna\\onedrive\\desktop\\hybrid_rl_trading\\.venv\\lib\\site-packages (from exchange-calendars>=3.3->pandas-market-calendars<6,>=5->finrl==0.3.8) (0.3.1)\n",
      "Requirement already satisfied: decorator in c:\\users\\ronit khanna\\onedrive\\desktop\\hybrid_rl_trading\\.venv\\lib\\site-packages (from ipython>=3.2.3->pyfolio-reloaded<0.10,>=0.9->finrl==0.3.8) (5.2.1)\n",
      "Requirement already satisfied: ipython-pygments-lexers in c:\\users\\ronit khanna\\onedrive\\desktop\\hybrid_rl_trading\\.venv\\lib\\site-packages (from ipython>=3.2.3->pyfolio-reloaded<0.10,>=0.9->finrl==0.3.8) (1.1.1)\n",
      "Requirement already satisfied: jedi>=0.16 in c:\\users\\ronit khanna\\onedrive\\desktop\\hybrid_rl_trading\\.venv\\lib\\site-packages (from ipython>=3.2.3->pyfolio-reloaded<0.10,>=0.9->finrl==0.3.8) (0.19.2)\n",
      "Requirement already satisfied: matplotlib-inline in c:\\users\\ronit khanna\\onedrive\\desktop\\hybrid_rl_trading\\.venv\\lib\\site-packages (from ipython>=3.2.3->pyfolio-reloaded<0.10,>=0.9->finrl==0.3.8) (0.1.7)\n",
      "Requirement already satisfied: prompt_toolkit<3.1.0,>=3.0.41 in c:\\users\\ronit khanna\\onedrive\\desktop\\hybrid_rl_trading\\.venv\\lib\\site-packages (from ipython>=3.2.3->pyfolio-reloaded<0.10,>=0.9->finrl==0.3.8) (3.0.51)\n",
      "Requirement already satisfied: pygments>=2.4.0 in c:\\users\\ronit khanna\\onedrive\\desktop\\hybrid_rl_trading\\.venv\\lib\\site-packages (from ipython>=3.2.3->pyfolio-reloaded<0.10,>=0.9->finrl==0.3.8) (2.19.2)\n",
      "Requirement already satisfied: stack_data in c:\\users\\ronit khanna\\onedrive\\desktop\\hybrid_rl_trading\\.venv\\lib\\site-packages (from ipython>=3.2.3->pyfolio-reloaded<0.10,>=0.9->finrl==0.3.8) (0.6.3)\n",
      "Requirement already satisfied: traitlets>=5.13.0 in c:\\users\\ronit khanna\\onedrive\\desktop\\hybrid_rl_trading\\.venv\\lib\\site-packages (from ipython>=3.2.3->pyfolio-reloaded<0.10,>=0.9->finrl==0.3.8) (5.14.3)\n",
      "Requirement already satisfied: wcwidth in c:\\users\\ronit khanna\\onedrive\\desktop\\hybrid_rl_trading\\.venv\\lib\\site-packages (from prompt_toolkit<3.1.0,>=3.0.41->ipython>=3.2.3->pyfolio-reloaded<0.10,>=0.9->finrl==0.3.8) (0.2.13)\n",
      "Requirement already satisfied: parso<0.9.0,>=0.8.4 in c:\\users\\ronit khanna\\onedrive\\desktop\\hybrid_rl_trading\\.venv\\lib\\site-packages (from jedi>=0.16->ipython>=3.2.3->pyfolio-reloaded<0.10,>=0.9->finrl==0.3.8) (0.8.4)\n",
      "Requirement already satisfied: contourpy>=1.0.1 in c:\\users\\ronit khanna\\onedrive\\desktop\\hybrid_rl_trading\\.venv\\lib\\site-packages (from matplotlib->elegantrl@ git+https://github.com/AI4Finance-Foundation/ElegantRL.git->finrl==0.3.8) (1.3.2)\n",
      "Requirement already satisfied: cycler>=0.10 in c:\\users\\ronit khanna\\onedrive\\desktop\\hybrid_rl_trading\\.venv\\lib\\site-packages (from matplotlib->elegantrl@ git+https://github.com/AI4Finance-Foundation/ElegantRL.git->finrl==0.3.8) (0.12.1)\n",
      "Requirement already satisfied: fonttools>=4.22.0 in c:\\users\\ronit khanna\\onedrive\\desktop\\hybrid_rl_trading\\.venv\\lib\\site-packages (from matplotlib->elegantrl@ git+https://github.com/AI4Finance-Foundation/ElegantRL.git->finrl==0.3.8) (4.58.5)\n",
      "Requirement already satisfied: kiwisolver>=1.3.1 in c:\\users\\ronit khanna\\onedrive\\desktop\\hybrid_rl_trading\\.venv\\lib\\site-packages (from matplotlib->elegantrl@ git+https://github.com/AI4Finance-Foundation/ElegantRL.git->finrl==0.3.8) (1.4.8)\n",
      "Requirement already satisfied: pillow>=8 in c:\\users\\ronit khanna\\onedrive\\desktop\\hybrid_rl_trading\\.venv\\lib\\site-packages (from matplotlib->elegantrl@ git+https://github.com/AI4Finance-Foundation/ElegantRL.git->finrl==0.3.8) (11.3.0)\n",
      "Requirement already satisfied: pyparsing>=2.3.1 in c:\\users\\ronit khanna\\onedrive\\desktop\\hybrid_rl_trading\\.venv\\lib\\site-packages (from matplotlib->elegantrl@ git+https://github.com/AI4Finance-Foundation/ElegantRL.git->finrl==0.3.8) (3.2.3)\n",
      "Requirement already satisfied: jinja2 in c:\\users\\ronit khanna\\onedrive\\desktop\\hybrid_rl_trading\\.venv\\lib\\site-packages (from osqp>=0.6.2->cvxpy>=1.1.19->pyportfolioopt<2,>=1->finrl==0.3.8) (3.1.6)\n",
      "Requirement already satisfied: torch<3.0,>=2.3 in c:\\users\\ronit khanna\\onedrive\\desktop\\hybrid_rl_trading\\.venv\\lib\\site-packages (from stable-baselines3>=2.0.0a5->stable-baselines3[extra]>=2.0.0a5->finrl==0.3.8) (2.7.1)\n",
      "Requirement already satisfied: cloudpickle in c:\\users\\ronit khanna\\onedrive\\desktop\\hybrid_rl_trading\\.venv\\lib\\site-packages (from stable-baselines3>=2.0.0a5->stable-baselines3[extra]>=2.0.0a5->finrl==0.3.8) (3.1.1)\n",
      "Requirement already satisfied: farama-notifications>=0.0.1 in c:\\users\\ronit khanna\\onedrive\\desktop\\hybrid_rl_trading\\.venv\\lib\\site-packages (from gymnasium->elegantrl@ git+https://github.com/AI4Finance-Foundation/ElegantRL.git->finrl==0.3.8) (0.0.4)\n",
      "Requirement already satisfied: sympy>=1.13.3 in c:\\users\\ronit khanna\\onedrive\\desktop\\hybrid_rl_trading\\.venv\\lib\\site-packages (from torch<3.0,>=2.3->stable-baselines3>=2.0.0a5->stable-baselines3[extra]>=2.0.0a5->finrl==0.3.8) (1.14.0)\n",
      "Requirement already satisfied: networkx in c:\\users\\ronit khanna\\onedrive\\desktop\\hybrid_rl_trading\\.venv\\lib\\site-packages (from torch<3.0,>=2.3->stable-baselines3>=2.0.0a5->stable-baselines3[extra]>=2.0.0a5->finrl==0.3.8) (3.5)\n",
      "Requirement already satisfied: opencv-python in c:\\users\\ronit khanna\\onedrive\\desktop\\hybrid_rl_trading\\.venv\\lib\\site-packages (from stable-baselines3[extra]>=2.0.0a5->finrl==0.3.8) (4.12.0.88)\n",
      "Requirement already satisfied: pygame in c:\\users\\ronit khanna\\onedrive\\desktop\\hybrid_rl_trading\\.venv\\lib\\site-packages (from stable-baselines3[extra]>=2.0.0a5->finrl==0.3.8) (2.6.1)\n",
      "Requirement already satisfied: tensorboard>=2.9.1 in c:\\users\\ronit khanna\\onedrive\\desktop\\hybrid_rl_trading\\.venv\\lib\\site-packages (from stable-baselines3[extra]>=2.0.0a5->finrl==0.3.8) (2.19.0)\n",
      "Requirement already satisfied: psutil in c:\\users\\ronit khanna\\onedrive\\desktop\\hybrid_rl_trading\\.venv\\lib\\site-packages (from stable-baselines3[extra]>=2.0.0a5->finrl==0.3.8) (7.0.0)\n",
      "Requirement already satisfied: tqdm in c:\\users\\ronit khanna\\onedrive\\desktop\\hybrid_rl_trading\\.venv\\lib\\site-packages (from stable-baselines3[extra]>=2.0.0a5->finrl==0.3.8) (4.67.1)\n",
      "Requirement already satisfied: rich in c:\\users\\ronit khanna\\onedrive\\desktop\\hybrid_rl_trading\\.venv\\lib\\site-packages (from stable-baselines3[extra]>=2.0.0a5->finrl==0.3.8) (14.0.0)\n",
      "Requirement already satisfied: ale-py>=0.9.0 in c:\\users\\ronit khanna\\onedrive\\desktop\\hybrid_rl_trading\\.venv\\lib\\site-packages (from stable-baselines3[extra]>=2.0.0a5->finrl==0.3.8) (0.11.2)\n",
      "Requirement already satisfied: mpmath<1.4,>=1.1.0 in c:\\users\\ronit khanna\\onedrive\\desktop\\hybrid_rl_trading\\.venv\\lib\\site-packages (from sympy>=1.13.3->torch<3.0,>=2.3->stable-baselines3>=2.0.0a5->stable-baselines3[extra]>=2.0.0a5->finrl==0.3.8) (1.3.0)\n",
      "Requirement already satisfied: absl-py>=0.4 in c:\\users\\ronit khanna\\onedrive\\desktop\\hybrid_rl_trading\\.venv\\lib\\site-packages (from tensorboard>=2.9.1->stable-baselines3[extra]>=2.0.0a5->finrl==0.3.8) (2.3.1)\n",
      "Requirement already satisfied: markdown>=2.6.8 in c:\\users\\ronit khanna\\onedrive\\desktop\\hybrid_rl_trading\\.venv\\lib\\site-packages (from tensorboard>=2.9.1->stable-baselines3[extra]>=2.0.0a5->finrl==0.3.8) (3.8.2)\n",
      "Requirement already satisfied: tensorboard-data-server<0.8.0,>=0.7.0 in c:\\users\\ronit khanna\\onedrive\\desktop\\hybrid_rl_trading\\.venv\\lib\\site-packages (from tensorboard>=2.9.1->stable-baselines3[extra]>=2.0.0a5->finrl==0.3.8) (0.7.2)\n",
      "Requirement already satisfied: werkzeug>=1.0.1 in c:\\users\\ronit khanna\\onedrive\\desktop\\hybrid_rl_trading\\.venv\\lib\\site-packages (from tensorboard>=2.9.1->stable-baselines3[extra]>=2.0.0a5->finrl==0.3.8) (3.1.3)\n",
      "Requirement already satisfied: distlib<1,>=0.3.7 in c:\\users\\ronit khanna\\onedrive\\desktop\\hybrid_rl_trading\\.venv\\lib\\site-packages (from virtualenv!=20.21.1,>=20.0.24->ray[default,tune]<3,>=2->finrl==0.3.8) (0.3.9)\n",
      "Requirement already satisfied: MarkupSafe>=2.1.1 in c:\\users\\ronit khanna\\onedrive\\desktop\\hybrid_rl_trading\\.venv\\lib\\site-packages (from werkzeug>=1.0.1->tensorboard>=2.9.1->stable-baselines3[extra]>=2.0.0a5->finrl==0.3.8) (3.0.2)\n",
      "Requirement already satisfied: h11<1,>=0.9.0 in c:\\users\\ronit khanna\\onedrive\\desktop\\hybrid_rl_trading\\.venv\\lib\\site-packages (from wsproto>=0.14->trio-websocket~=0.9->selenium<5,>=4->finrl==0.3.8) (0.16.0)\n",
      "Requirement already satisfied: jsonschema-specifications>=2023.03.6 in c:\\users\\ronit khanna\\onedrive\\desktop\\hybrid_rl_trading\\.venv\\lib\\site-packages (from jsonschema->ray<3,>=2->ray[default,tune]<3,>=2->finrl==0.3.8) (2025.4.1)\n",
      "Requirement already satisfied: referencing>=0.28.4 in c:\\users\\ronit khanna\\onedrive\\desktop\\hybrid_rl_trading\\.venv\\lib\\site-packages (from jsonschema->ray<3,>=2->ray[default,tune]<3,>=2->finrl==0.3.8) (0.36.2)\n",
      "Requirement already satisfied: rpds-py>=0.7.1 in c:\\users\\ronit khanna\\onedrive\\desktop\\hybrid_rl_trading\\.venv\\lib\\site-packages (from jsonschema->ray<3,>=2->ray[default,tune]<3,>=2->finrl==0.3.8) (0.26.0)\n",
      "Requirement already satisfied: opencensus-context>=0.1.3 in c:\\users\\ronit khanna\\onedrive\\desktop\\hybrid_rl_trading\\.venv\\lib\\site-packages (from opencensus->ray[default,tune]<3,>=2->finrl==0.3.8) (0.1.3)\n",
      "Requirement already satisfied: google-api-core<3.0.0,>=1.0.0 in c:\\users\\ronit khanna\\onedrive\\desktop\\hybrid_rl_trading\\.venv\\lib\\site-packages (from opencensus->ray[default,tune]<3,>=2->finrl==0.3.8) (2.25.1)\n",
      "Requirement already satisfied: googleapis-common-protos<2.0.0,>=1.56.2 in c:\\users\\ronit khanna\\onedrive\\desktop\\hybrid_rl_trading\\.venv\\lib\\site-packages (from google-api-core<3.0.0,>=1.0.0->opencensus->ray[default,tune]<3,>=2->finrl==0.3.8) (1.70.0)\n",
      "Requirement already satisfied: proto-plus<2.0.0,>=1.22.3 in c:\\users\\ronit khanna\\onedrive\\desktop\\hybrid_rl_trading\\.venv\\lib\\site-packages (from google-api-core<3.0.0,>=1.0.0->opencensus->ray[default,tune]<3,>=2->finrl==0.3.8) (1.26.1)\n",
      "Requirement already satisfied: google-auth<3.0.0,>=2.14.1 in c:\\users\\ronit khanna\\onedrive\\desktop\\hybrid_rl_trading\\.venv\\lib\\site-packages (from google-api-core<3.0.0,>=1.0.0->opencensus->ray[default,tune]<3,>=2->finrl==0.3.8) (2.40.3)\n",
      "Requirement already satisfied: cachetools<6.0,>=2.0.0 in c:\\users\\ronit khanna\\onedrive\\desktop\\hybrid_rl_trading\\.venv\\lib\\site-packages (from google-auth<3.0.0,>=2.14.1->google-api-core<3.0.0,>=1.0.0->opencensus->ray[default,tune]<3,>=2->finrl==0.3.8) (5.5.2)\n",
      "Requirement already satisfied: pyasn1-modules>=0.2.1 in c:\\users\\ronit khanna\\onedrive\\desktop\\hybrid_rl_trading\\.venv\\lib\\site-packages (from google-auth<3.0.0,>=2.14.1->google-api-core<3.0.0,>=1.0.0->opencensus->ray[default,tune]<3,>=2->finrl==0.3.8) (0.4.2)\n",
      "Requirement already satisfied: rsa<5,>=3.1.4 in c:\\users\\ronit khanna\\onedrive\\desktop\\hybrid_rl_trading\\.venv\\lib\\site-packages (from google-auth<3.0.0,>=2.14.1->google-api-core<3.0.0,>=1.0.0->opencensus->ray[default,tune]<3,>=2->finrl==0.3.8) (4.9.1)\n",
      "Requirement already satisfied: pyasn1>=0.1.3 in c:\\users\\ronit khanna\\onedrive\\desktop\\hybrid_rl_trading\\.venv\\lib\\site-packages (from rsa<5,>=3.1.4->google-auth<3.0.0,>=2.14.1->google-api-core<3.0.0,>=1.0.0->opencensus->ray[default,tune]<3,>=2->finrl==0.3.8) (0.6.1)\n",
      "Requirement already satisfied: opentelemetry-api~=1.12 in c:\\users\\ronit khanna\\onedrive\\desktop\\hybrid_rl_trading\\.venv\\lib\\site-packages (from opentelemetry-exporter-prometheus->ray[default,tune]<3,>=2->finrl==0.3.8) (1.35.0)\n",
      "Requirement already satisfied: importlib-metadata<8.8.0,>=6.0 in c:\\users\\ronit khanna\\onedrive\\desktop\\hybrid_rl_trading\\.venv\\lib\\site-packages (from opentelemetry-api~=1.12->opentelemetry-exporter-prometheus->ray[default,tune]<3,>=2->finrl==0.3.8) (8.7.0)\n",
      "Requirement already satisfied: zipp>=3.20 in c:\\users\\ronit khanna\\onedrive\\desktop\\hybrid_rl_trading\\.venv\\lib\\site-packages (from importlib-metadata<8.8.0,>=6.0->opentelemetry-api~=1.12->opentelemetry-exporter-prometheus->ray[default,tune]<3,>=2->finrl==0.3.8) (3.23.0)\n",
      "Requirement already satisfied: opentelemetry-semantic-conventions==0.56b0 in c:\\users\\ronit khanna\\onedrive\\desktop\\hybrid_rl_trading\\.venv\\lib\\site-packages (from opentelemetry-sdk->ray[default,tune]<3,>=2->finrl==0.3.8) (0.56b0)\n",
      "Requirement already satisfied: markdown-it-py>=2.2.0 in c:\\users\\ronit khanna\\onedrive\\desktop\\hybrid_rl_trading\\.venv\\lib\\site-packages (from rich->stable-baselines3[extra]>=2.0.0a5->finrl==0.3.8) (3.0.0)\n",
      "Requirement already satisfied: mdurl~=0.1 in c:\\users\\ronit khanna\\onedrive\\desktop\\hybrid_rl_trading\\.venv\\lib\\site-packages (from markdown-it-py>=2.2.0->rich->stable-baselines3[extra]>=2.0.0a5->finrl==0.3.8) (0.1.2)\n",
      "Requirement already satisfied: wrapt in c:\\users\\ronit khanna\\onedrive\\desktop\\hybrid_rl_trading\\.venv\\lib\\site-packages (from smart_open->ray[default,tune]<3,>=2->finrl==0.3.8) (1.17.2)\n",
      "Requirement already satisfied: executing>=1.2.0 in c:\\users\\ronit khanna\\onedrive\\desktop\\hybrid_rl_trading\\.venv\\lib\\site-packages (from stack_data->ipython>=3.2.3->pyfolio-reloaded<0.10,>=0.9->finrl==0.3.8) (2.2.0)\n",
      "Requirement already satisfied: asttokens>=2.1.0 in c:\\users\\ronit khanna\\onedrive\\desktop\\hybrid_rl_trading\\.venv\\lib\\site-packages (from stack_data->ipython>=3.2.3->pyfolio-reloaded<0.10,>=0.9->finrl==0.3.8) (3.0.0)\n",
      "Requirement already satisfied: pure-eval in c:\\users\\ronit khanna\\onedrive\\desktop\\hybrid_rl_trading\\.venv\\lib\\site-packages (from stack_data->ipython>=3.2.3->pyfolio-reloaded<0.10,>=0.9->finrl==0.3.8) (0.2.3)\n",
      "Requirement already satisfied: niltype<2.0,>=0.3 in c:\\users\\ronit khanna\\onedrive\\desktop\\hybrid_rl_trading\\.venv\\lib\\site-packages (from th->elegantrl@ git+https://github.com/AI4Finance-Foundation/ElegantRL.git->finrl==0.3.8) (1.0.2)\n"
     ]
    },
    {
     "name": "stderr",
     "output_type": "stream",
     "text": [
      "  Running command git clone --filter=blob:none --quiet https://github.com/AI4Finance-Foundation/FinRL.git 'C:\\Users\\Ronit Khanna\\AppData\\Local\\Temp\\pip-req-build-ytfif_5g'\n",
      "  Running command git clone --filter=blob:none --quiet https://github.com/AI4Finance-Foundation/ElegantRL.git 'C:\\Users\\Ronit Khanna\\AppData\\Local\\Temp\\pip-install-elwktfk2\\elegantrl_0bf708ac06084cd4993e662062d5ddff'\n"
     ]
    },
    {
     "name": "stdout",
     "output_type": "stream",
     "text": [
      "Requirement already satisfied: torch in c:\\users\\ronit khanna\\onedrive\\desktop\\hybrid_rl_trading\\.venv\\lib\\site-packages (2.7.1)\n",
      "Requirement already satisfied: scikit-learn in c:\\users\\ronit khanna\\onedrive\\desktop\\hybrid_rl_trading\\.venv\\lib\\site-packages (1.7.0)\n",
      "Requirement already satisfied: seaborn in c:\\users\\ronit khanna\\onedrive\\desktop\\hybrid_rl_trading\\.venv\\lib\\site-packages (0.13.2)\n",
      "Requirement already satisfied: filelock in c:\\users\\ronit khanna\\onedrive\\desktop\\hybrid_rl_trading\\.venv\\lib\\site-packages (from torch) (3.18.0)\n",
      "Requirement already satisfied: typing-extensions>=4.10.0 in c:\\users\\ronit khanna\\onedrive\\desktop\\hybrid_rl_trading\\.venv\\lib\\site-packages (from torch) (4.14.1)\n",
      "Requirement already satisfied: sympy>=1.13.3 in c:\\users\\ronit khanna\\onedrive\\desktop\\hybrid_rl_trading\\.venv\\lib\\site-packages (from torch) (1.14.0)\n",
      "Requirement already satisfied: networkx in c:\\users\\ronit khanna\\onedrive\\desktop\\hybrid_rl_trading\\.venv\\lib\\site-packages (from torch) (3.5)\n",
      "Requirement already satisfied: jinja2 in c:\\users\\ronit khanna\\onedrive\\desktop\\hybrid_rl_trading\\.venv\\lib\\site-packages (from torch) (3.1.6)\n",
      "Requirement already satisfied: fsspec in c:\\users\\ronit khanna\\onedrive\\desktop\\hybrid_rl_trading\\.venv\\lib\\site-packages (from torch) (2025.7.0)\n",
      "Requirement already satisfied: numpy>=1.22.0 in c:\\users\\ronit khanna\\onedrive\\desktop\\hybrid_rl_trading\\.venv\\lib\\site-packages (from scikit-learn) (2.2.6)\n",
      "Requirement already satisfied: scipy>=1.8.0 in c:\\users\\ronit khanna\\onedrive\\desktop\\hybrid_rl_trading\\.venv\\lib\\site-packages (from scikit-learn) (1.16.0)\n",
      "Requirement already satisfied: joblib>=1.2.0 in c:\\users\\ronit khanna\\onedrive\\desktop\\hybrid_rl_trading\\.venv\\lib\\site-packages (from scikit-learn) (1.5.1)\n",
      "Requirement already satisfied: threadpoolctl>=3.1.0 in c:\\users\\ronit khanna\\onedrive\\desktop\\hybrid_rl_trading\\.venv\\lib\\site-packages (from scikit-learn) (3.6.0)\n",
      "Requirement already satisfied: pandas>=1.2 in c:\\users\\ronit khanna\\onedrive\\desktop\\hybrid_rl_trading\\.venv\\lib\\site-packages (from seaborn) (2.2.3)\n",
      "Requirement already satisfied: matplotlib!=3.6.1,>=3.4 in c:\\users\\ronit khanna\\onedrive\\desktop\\hybrid_rl_trading\\.venv\\lib\\site-packages (from seaborn) (3.10.3)\n",
      "Requirement already satisfied: contourpy>=1.0.1 in c:\\users\\ronit khanna\\onedrive\\desktop\\hybrid_rl_trading\\.venv\\lib\\site-packages (from matplotlib!=3.6.1,>=3.4->seaborn) (1.3.2)\n",
      "Requirement already satisfied: cycler>=0.10 in c:\\users\\ronit khanna\\onedrive\\desktop\\hybrid_rl_trading\\.venv\\lib\\site-packages (from matplotlib!=3.6.1,>=3.4->seaborn) (0.12.1)\n",
      "Requirement already satisfied: fonttools>=4.22.0 in c:\\users\\ronit khanna\\onedrive\\desktop\\hybrid_rl_trading\\.venv\\lib\\site-packages (from matplotlib!=3.6.1,>=3.4->seaborn) (4.58.5)\n",
      "Requirement already satisfied: kiwisolver>=1.3.1 in c:\\users\\ronit khanna\\onedrive\\desktop\\hybrid_rl_trading\\.venv\\lib\\site-packages (from matplotlib!=3.6.1,>=3.4->seaborn) (1.4.8)\n",
      "Requirement already satisfied: packaging>=20.0 in c:\\users\\ronit khanna\\onedrive\\desktop\\hybrid_rl_trading\\.venv\\lib\\site-packages (from matplotlib!=3.6.1,>=3.4->seaborn) (24.2)\n",
      "Requirement already satisfied: pillow>=8 in c:\\users\\ronit khanna\\onedrive\\desktop\\hybrid_rl_trading\\.venv\\lib\\site-packages (from matplotlib!=3.6.1,>=3.4->seaborn) (11.3.0)\n",
      "Requirement already satisfied: pyparsing>=2.3.1 in c:\\users\\ronit khanna\\onedrive\\desktop\\hybrid_rl_trading\\.venv\\lib\\site-packages (from matplotlib!=3.6.1,>=3.4->seaborn) (3.2.3)\n",
      "Requirement already satisfied: python-dateutil>=2.7 in c:\\users\\ronit khanna\\onedrive\\desktop\\hybrid_rl_trading\\.venv\\lib\\site-packages (from matplotlib!=3.6.1,>=3.4->seaborn) (2.9.0.post0)\n",
      "Requirement already satisfied: pytz>=2020.1 in c:\\users\\ronit khanna\\onedrive\\desktop\\hybrid_rl_trading\\.venv\\lib\\site-packages (from pandas>=1.2->seaborn) (2025.2)\n",
      "Requirement already satisfied: tzdata>=2022.7 in c:\\users\\ronit khanna\\onedrive\\desktop\\hybrid_rl_trading\\.venv\\lib\\site-packages (from pandas>=1.2->seaborn) (2025.2)\n",
      "Requirement already satisfied: six>=1.5 in c:\\users\\ronit khanna\\onedrive\\desktop\\hybrid_rl_trading\\.venv\\lib\\site-packages (from python-dateutil>=2.7->matplotlib!=3.6.1,>=3.4->seaborn) (1.17.0)\n",
      "Requirement already satisfied: mpmath<1.4,>=1.1.0 in c:\\users\\ronit khanna\\onedrive\\desktop\\hybrid_rl_trading\\.venv\\lib\\site-packages (from sympy>=1.13.3->torch) (1.3.0)\n",
      "Requirement already satisfied: MarkupSafe>=2.0 in c:\\users\\ronit khanna\\onedrive\\desktop\\hybrid_rl_trading\\.venv\\lib\\site-packages (from jinja2->torch) (3.0.2)\n"
     ]
    }
   ],
   "execution_count": 27
  },
  {
   "cell_type": "code",
   "metadata": {
    "id": "j37flV31OJGW",
    "ExecuteTime": {
     "end_time": "2025-07-16T08:27:26.968757Z",
     "start_time": "2025-07-16T08:27:26.943693Z"
    }
   },
   "source": [
    "import pandas as pd\n",
    "import yfinance as yf\n",
    "\n",
    "from finrl.meta.preprocessor.yahoodownloader import YahooDownloader\n",
    "from finrl.meta.preprocessor.preprocessors import FeatureEngineer, data_split\n",
    "from finrl import config_tickers\n",
    "from finrl.config import INDICATORS\n",
    "from finrl.config import *\n",
    "import itertools"
   ],
   "outputs": [],
   "execution_count": 28
  },
  {
   "cell_type": "markdown",
   "metadata": {
    "id": "wxsN8i7tg07U"
   },
   "source": [
    "# Part 2. Fetch data"
   ]
  },
  {
   "cell_type": "markdown",
   "metadata": {
    "id": "fMNm9tCMXy8J"
   },
   "source": [
    "[yfinance](https://github.com/ranaroussi/yfinance) is an open-source library that provides APIs fetching historical data form Yahoo Finance. In FinRL, we have a class called [YahooDownloader](https://github.com/AI4Finance-Foundation/FinRL/blob/master/finrl/meta/preprocessor/yahoodownloader.py) that use yfinance to fetch data from Yahoo Finance."
   ]
  },
  {
   "cell_type": "markdown",
   "metadata": {
    "id": "CWVXUkzaZE8m"
   },
   "source": [
    "**OHLCV**: Data downloaded are in the form of OHLCV, corresponding to **open, high, low, close, volume,** respectively. OHLCV is important because they contain most of numerical information of a stock in time series. From OHLCV, traders can get further judgement and prediction like the momentum, people's interest, market trends, etc."
   ]
  },
  {
   "cell_type": "markdown",
   "metadata": {
    "id": "jRYlbdMpW9Np"
   },
   "source": [
    "## Data for a single ticker"
   ]
  },
  {
   "cell_type": "markdown",
   "metadata": {
    "id": "1wo6pCQYXDbz"
   },
   "source": [
    "Here we provide two ways to fetch data with single ticker, let's take Apple Inc. (AAPL) as an example."
   ]
  },
  {
   "cell_type": "markdown",
   "metadata": {
    "id": "yzVRe90WXLB1"
   },
   "source": [
    "### Using yfinance"
   ]
  },
  {
   "cell_type": "code",
   "metadata": {
    "colab": {
     "base_uri": "https://localhost:8080/"
    },
    "id": "SSl6mVV7XNw6",
    "outputId": "460c06eb-c71d-4ebb-fe17-481295d70cff",
    "ExecuteTime": {
     "end_time": "2025-07-16T08:27:27.365648Z",
     "start_time": "2025-07-16T08:27:27.096689Z"
    }
   },
   "source": [
    "TRAIN_START_DATE = '2020-01-01'\n",
    "TRADE_END_DATE = '2020-01-31'\n",
    "aapl_df_yf = yf.download(tickers = \"aapl\", start=TRAIN_START_DATE, end=TRADE_END_DATE)"
   ],
   "outputs": [
    {
     "name": "stderr",
     "output_type": "stream",
     "text": [
      "[*********************100%***********************]  1 of 1 completed\n"
     ]
    }
   ],
   "execution_count": 29
  },
  {
   "cell_type": "code",
   "metadata": {
    "colab": {
     "base_uri": "https://localhost:8080/",
     "height": 238
    },
    "id": "Rjutz22rXrpR",
    "outputId": "62aadc8c-b854-403d-ac73-6cf86d53fa22",
    "ExecuteTime": {
     "end_time": "2025-07-16T08:27:27.501629Z",
     "start_time": "2025-07-16T08:27:27.481891Z"
    }
   },
   "source": [
    "aapl_df_yf.head()"
   ],
   "outputs": [
    {
     "data": {
      "text/plain": [
       "Price           Close       High        Low       Open     Volume\n",
       "Ticker           AAPL       AAPL       AAPL       AAPL       AAPL\n",
       "Date                                                             \n",
       "2020-01-02  72.620842  72.681289  71.373218  71.627092  135480400\n",
       "2020-01-03  71.914818  72.676447  71.689957  71.847118  146322800\n",
       "2020-01-06  72.487831  72.526518  70.783234  71.034694  118387200\n",
       "2020-01-07  72.146942  72.753823  71.926915  72.497529  108872000\n",
       "2020-01-08  73.307518  73.609752  71.849540  71.849540  132079200"
      ],
      "text/html": [
       "<div>\n",
       "<style scoped>\n",
       "    .dataframe tbody tr th:only-of-type {\n",
       "        vertical-align: middle;\n",
       "    }\n",
       "\n",
       "    .dataframe tbody tr th {\n",
       "        vertical-align: top;\n",
       "    }\n",
       "\n",
       "    .dataframe thead tr th {\n",
       "        text-align: left;\n",
       "    }\n",
       "\n",
       "    .dataframe thead tr:last-of-type th {\n",
       "        text-align: right;\n",
       "    }\n",
       "</style>\n",
       "<table border=\"1\" class=\"dataframe\">\n",
       "  <thead>\n",
       "    <tr>\n",
       "      <th>Price</th>\n",
       "      <th>Close</th>\n",
       "      <th>High</th>\n",
       "      <th>Low</th>\n",
       "      <th>Open</th>\n",
       "      <th>Volume</th>\n",
       "    </tr>\n",
       "    <tr>\n",
       "      <th>Ticker</th>\n",
       "      <th>AAPL</th>\n",
       "      <th>AAPL</th>\n",
       "      <th>AAPL</th>\n",
       "      <th>AAPL</th>\n",
       "      <th>AAPL</th>\n",
       "    </tr>\n",
       "    <tr>\n",
       "      <th>Date</th>\n",
       "      <th></th>\n",
       "      <th></th>\n",
       "      <th></th>\n",
       "      <th></th>\n",
       "      <th></th>\n",
       "    </tr>\n",
       "  </thead>\n",
       "  <tbody>\n",
       "    <tr>\n",
       "      <th>2020-01-02</th>\n",
       "      <td>72.620842</td>\n",
       "      <td>72.681289</td>\n",
       "      <td>71.373218</td>\n",
       "      <td>71.627092</td>\n",
       "      <td>135480400</td>\n",
       "    </tr>\n",
       "    <tr>\n",
       "      <th>2020-01-03</th>\n",
       "      <td>71.914818</td>\n",
       "      <td>72.676447</td>\n",
       "      <td>71.689957</td>\n",
       "      <td>71.847118</td>\n",
       "      <td>146322800</td>\n",
       "    </tr>\n",
       "    <tr>\n",
       "      <th>2020-01-06</th>\n",
       "      <td>72.487831</td>\n",
       "      <td>72.526518</td>\n",
       "      <td>70.783234</td>\n",
       "      <td>71.034694</td>\n",
       "      <td>118387200</td>\n",
       "    </tr>\n",
       "    <tr>\n",
       "      <th>2020-01-07</th>\n",
       "      <td>72.146942</td>\n",
       "      <td>72.753823</td>\n",
       "      <td>71.926915</td>\n",
       "      <td>72.497529</td>\n",
       "      <td>108872000</td>\n",
       "    </tr>\n",
       "    <tr>\n",
       "      <th>2020-01-08</th>\n",
       "      <td>73.307518</td>\n",
       "      <td>73.609752</td>\n",
       "      <td>71.849540</td>\n",
       "      <td>71.849540</td>\n",
       "      <td>132079200</td>\n",
       "    </tr>\n",
       "  </tbody>\n",
       "</table>\n",
       "</div>"
      ]
     },
     "execution_count": 30,
     "metadata": {},
     "output_type": "execute_result"
    }
   ],
   "execution_count": 30
  },
  {
   "cell_type": "markdown",
   "metadata": {
    "id": "fHZLDmnsXOK0"
   },
   "source": [
    "### Using FinRL"
   ]
  },
  {
   "cell_type": "markdown",
   "metadata": {
    "id": "VFB77ohNbXCc"
   },
   "source": [
    "In FinRL's YahooDownloader, we modified the data frame to the form that convenient for further data processing process. We use adjusted close price instead of close price, and add a column representing the day of a week (0-4 corresponding to Monday-Friday)."
   ]
  },
  {
   "cell_type": "code",
   "metadata": {
    "colab": {
     "base_uri": "https://localhost:8080/"
    },
    "id": "7ufDHvt4XBWT",
    "outputId": "41603042-4f14-4814-c569-305d85fa7f9d",
    "ExecuteTime": {
     "end_time": "2025-07-16T08:27:27.815061Z",
     "start_time": "2025-07-16T08:27:27.704703Z"
    }
   },
   "source": [
    "aapl_df_finrl = YahooDownloader(start_date = TRAIN_START_DATE,\n",
    "                                end_date = TRAIN_END_DATE,\n",
    "                                ticker_list = ['aapl']).fetch_data()"
   ],
   "outputs": [
    {
     "name": "stderr",
     "output_type": "stream",
     "text": [
      "[*********************100%***********************]  1 of 1 completed"
     ]
    },
    {
     "name": "stdout",
     "output_type": "stream",
     "text": [
      "Shape of DataFrame:  (146, 8)\n"
     ]
    },
    {
     "name": "stderr",
     "output_type": "stream",
     "text": [
      "\n"
     ]
    }
   ],
   "execution_count": 31
  },
  {
   "cell_type": "code",
   "metadata": {
    "colab": {
     "base_uri": "https://localhost:8080/",
     "height": 206
    },
    "id": "_TgEjXxhXtT_",
    "outputId": "a8e8a9e2-a1ea-472e-eddf-2227e6c901d8",
    "ExecuteTime": {
     "end_time": "2025-07-16T08:27:28.003168Z",
     "start_time": "2025-07-16T08:27:27.987615Z"
    }
   },
   "source": [
    "aapl_df_finrl.head()"
   ],
   "outputs": [
    {
     "data": {
      "text/plain": [
       "Price        date      close       high        low       open     volume  \\\n",
       "0      2020-01-02  72.620842  72.681289  71.373218  71.627092  135480400   \n",
       "1      2020-01-03  71.914810  72.676439  71.689950  71.847110  146322800   \n",
       "2      2020-01-06  72.487846  72.526533  70.783248  71.034709  118387200   \n",
       "3      2020-01-07  72.146935  72.753816  71.926907  72.497522  108872000   \n",
       "4      2020-01-08  73.307533  73.609768  71.849555  71.849555  132079200   \n",
       "\n",
       "Price   tic  day  \n",
       "0      aapl    3  \n",
       "1      aapl    4  \n",
       "2      aapl    0  \n",
       "3      aapl    1  \n",
       "4      aapl    2  "
      ],
      "text/html": [
       "<div>\n",
       "<style scoped>\n",
       "    .dataframe tbody tr th:only-of-type {\n",
       "        vertical-align: middle;\n",
       "    }\n",
       "\n",
       "    .dataframe tbody tr th {\n",
       "        vertical-align: top;\n",
       "    }\n",
       "\n",
       "    .dataframe thead th {\n",
       "        text-align: right;\n",
       "    }\n",
       "</style>\n",
       "<table border=\"1\" class=\"dataframe\">\n",
       "  <thead>\n",
       "    <tr style=\"text-align: right;\">\n",
       "      <th>Price</th>\n",
       "      <th>date</th>\n",
       "      <th>close</th>\n",
       "      <th>high</th>\n",
       "      <th>low</th>\n",
       "      <th>open</th>\n",
       "      <th>volume</th>\n",
       "      <th>tic</th>\n",
       "      <th>day</th>\n",
       "    </tr>\n",
       "  </thead>\n",
       "  <tbody>\n",
       "    <tr>\n",
       "      <th>0</th>\n",
       "      <td>2020-01-02</td>\n",
       "      <td>72.620842</td>\n",
       "      <td>72.681289</td>\n",
       "      <td>71.373218</td>\n",
       "      <td>71.627092</td>\n",
       "      <td>135480400</td>\n",
       "      <td>aapl</td>\n",
       "      <td>3</td>\n",
       "    </tr>\n",
       "    <tr>\n",
       "      <th>1</th>\n",
       "      <td>2020-01-03</td>\n",
       "      <td>71.914810</td>\n",
       "      <td>72.676439</td>\n",
       "      <td>71.689950</td>\n",
       "      <td>71.847110</td>\n",
       "      <td>146322800</td>\n",
       "      <td>aapl</td>\n",
       "      <td>4</td>\n",
       "    </tr>\n",
       "    <tr>\n",
       "      <th>2</th>\n",
       "      <td>2020-01-06</td>\n",
       "      <td>72.487846</td>\n",
       "      <td>72.526533</td>\n",
       "      <td>70.783248</td>\n",
       "      <td>71.034709</td>\n",
       "      <td>118387200</td>\n",
       "      <td>aapl</td>\n",
       "      <td>0</td>\n",
       "    </tr>\n",
       "    <tr>\n",
       "      <th>3</th>\n",
       "      <td>2020-01-07</td>\n",
       "      <td>72.146935</td>\n",
       "      <td>72.753816</td>\n",
       "      <td>71.926907</td>\n",
       "      <td>72.497522</td>\n",
       "      <td>108872000</td>\n",
       "      <td>aapl</td>\n",
       "      <td>1</td>\n",
       "    </tr>\n",
       "    <tr>\n",
       "      <th>4</th>\n",
       "      <td>2020-01-08</td>\n",
       "      <td>73.307533</td>\n",
       "      <td>73.609768</td>\n",
       "      <td>71.849555</td>\n",
       "      <td>71.849555</td>\n",
       "      <td>132079200</td>\n",
       "      <td>aapl</td>\n",
       "      <td>2</td>\n",
       "    </tr>\n",
       "  </tbody>\n",
       "</table>\n",
       "</div>"
      ]
     },
     "execution_count": 32,
     "metadata": {},
     "output_type": "execute_result"
    }
   ],
   "execution_count": 32
  },
  {
   "cell_type": "markdown",
   "metadata": {
    "id": "9kcOE5nbic6R"
   },
   "source": [
    "## Data for the chosen tickers"
   ]
  },
  {
   "cell_type": "code",
   "metadata": {
    "colab": {
     "base_uri": "https://localhost:8080/"
    },
    "id": "FKBjtAo2uIq5",
    "outputId": "927f682a-9cc3-4c11-c3f1-094ae811af6b",
    "ExecuteTime": {
     "end_time": "2025-07-16T08:27:28.334761Z",
     "start_time": "2025-07-16T08:27:28.324433Z"
    }
   },
   "source": [
    "NSE_TICKERS =  [\n",
    "    \"RELIANCE.NS\", \"TCS.NS\", \"INFY.NS\", \"HDFCBANK.NS\", \"ICICIBANK.NS\",\n",
    "    \"HINDUNILVR.NS\", \"LT.NS\", \"SBIN.NS\", \"BHARTIARTL.NS\", \"ITC.NS\",\n",
    "    \"KOTAKBANK.NS\", \"ASIANPAINT.NS\", \"AXISBANK.NS\", \"HCLTECH.NS\", \"BAJFINANCE.NS\",\n",
    "    \"MARUTI.NS\", \"SUNPHARMA.NS\", \"WIPRO.NS\", \"ULTRACEMCO.NS\", \"NESTLEIND.NS\",\n",
    "    \"NTPC.NS\", \"POWERGRID.NS\", \"JSWSTEEL.NS\", \"TITAN.NS\", \"TATAMOTORS.NS\",\n",
    "    \"ADANIENT.NS\", \"ADANIPORTS.NS\", \"COALINDIA.NS\", \"BAJAJFINSV.NS\", \"TATASTEEL.NS\",\n",
    "    \"TECHM.NS\", \"HDFCLIFE.NS\", \"GRASIM.NS\", \"HINDALCO.NS\", \"BPCL.NS\",\n",
    "    \"EICHERMOT.NS\", \"BRITANNIA.NS\", \"HEROMOTOCO.NS\", \"DRREDDY.NS\", \"DIVISLAB.NS\",\n",
    "    \"CIPLA.NS\", \"INDUSINDBK.NS\", \"BAJAJ-AUTO.NS\", \"ONGC.NS\", \"SBILIFE.NS\",\n",
    "    \"ICICIPRULI.NS\", \"TATACONSUM.NS\", \"APOLLOHOSP.NS\", \"HDFCAMC.NS\", \"M&M.NS\"\n",
    "]"
   ],
   "outputs": [],
   "execution_count": 33
  },
  {
   "cell_type": "code",
   "metadata": {
    "id": "9xTPG4Fhc-zL",
    "ExecuteTime": {
     "end_time": "2025-07-16T08:27:28.679642Z",
     "start_time": "2025-07-16T08:27:28.672448Z"
    }
   },
   "source": [
    "TRAIN_START_DATE = '2016-01-01'\n",
    "TRAIN_END_DATE = '2020-01-01'\n",
    "TRADE_START_DATE = '2020-01-01'\n",
    "TRADE_END_DATE = '2023-01-01'\n"
   ],
   "outputs": [],
   "execution_count": 34
  },
  {
   "cell_type": "code",
   "metadata": {
    "colab": {
     "base_uri": "https://localhost:8080/"
    },
    "id": "9LblMI8CO0F3",
    "outputId": "7be76385-50eb-4e8d-f2e5-1795d77b70ba",
    "ExecuteTime": {
     "end_time": "2025-07-16T08:28:05.689343Z",
     "start_time": "2025-07-16T08:27:28.924907Z"
    }
   },
   "source": [
    "df_raw = YahooDownloader(start_date = TRAIN_START_DATE,\n",
    "                     end_date = TRADE_END_DATE,\n",
    "                     ticker_list = NSE_TICKERS).fetch_data()"
   ],
   "outputs": [
    {
     "name": "stderr",
     "output_type": "stream",
     "text": [
      "[*********************100%***********************]  1 of 1 completed\n",
      "[*********************100%***********************]  1 of 1 completed\n",
      "[*********************100%***********************]  1 of 1 completed\n",
      "[*********************100%***********************]  1 of 1 completed\n",
      "[*********************100%***********************]  1 of 1 completed\n",
      "[*********************100%***********************]  1 of 1 completed\n",
      "[*********************100%***********************]  1 of 1 completed\n",
      "[*********************100%***********************]  1 of 1 completed\n",
      "[*********************100%***********************]  1 of 1 completed\n",
      "[*********************100%***********************]  1 of 1 completed\n",
      "[*********************100%***********************]  1 of 1 completed\n",
      "[*********************100%***********************]  1 of 1 completed\n",
      "[*********************100%***********************]  1 of 1 completed\n",
      "[*********************100%***********************]  1 of 1 completed\n",
      "[*********************100%***********************]  1 of 1 completed\n",
      "[*********************100%***********************]  1 of 1 completed\n",
      "[*********************100%***********************]  1 of 1 completed\n",
      "[*********************100%***********************]  1 of 1 completed\n",
      "[*********************100%***********************]  1 of 1 completed\n",
      "[*********************100%***********************]  1 of 1 completed\n",
      "[*********************100%***********************]  1 of 1 completed\n",
      "[*********************100%***********************]  1 of 1 completed\n",
      "[*********************100%***********************]  1 of 1 completed\n",
      "[*********************100%***********************]  1 of 1 completed\n",
      "[*********************100%***********************]  1 of 1 completed\n",
      "[*********************100%***********************]  1 of 1 completed\n",
      "[*********************100%***********************]  1 of 1 completed\n",
      "[*********************100%***********************]  1 of 1 completed\n",
      "[*********************100%***********************]  1 of 1 completed\n",
      "[*********************100%***********************]  1 of 1 completed\n",
      "[*********************100%***********************]  1 of 1 completed\n",
      "[*********************100%***********************]  1 of 1 completed\n",
      "[*********************100%***********************]  1 of 1 completed\n",
      "[*********************100%***********************]  1 of 1 completed\n",
      "[*********************100%***********************]  1 of 1 completed\n",
      "[*********************100%***********************]  1 of 1 completed\n",
      "[*********************100%***********************]  1 of 1 completed\n",
      "[*********************100%***********************]  1 of 1 completed\n",
      "[*********************100%***********************]  1 of 1 completed\n",
      "[*********************100%***********************]  1 of 1 completed\n",
      "[*********************100%***********************]  1 of 1 completed\n",
      "[*********************100%***********************]  1 of 1 completed\n",
      "[*********************100%***********************]  1 of 1 completed\n",
      "[*********************100%***********************]  1 of 1 completed\n",
      "[*********************100%***********************]  1 of 1 completed\n",
      "[*********************100%***********************]  1 of 1 completed\n",
      "[*********************100%***********************]  1 of 1 completed\n",
      "[*********************100%***********************]  1 of 1 completed\n",
      "[*********************100%***********************]  1 of 1 completed\n",
      "[*********************100%***********************]  1 of 1 completed\n"
     ]
    },
    {
     "name": "stdout",
     "output_type": "stream",
     "text": [
      "Shape of DataFrame:  (84778, 8)\n"
     ]
    }
   ],
   "execution_count": 35
  },
  {
   "cell_type": "code",
   "metadata": {
    "colab": {
     "base_uri": "https://localhost:8080/",
     "height": 206
    },
    "id": "RD9cjHzt8X3A",
    "outputId": "051acda5-c8fd-440a-a5af-6be04cfdc018",
    "ExecuteTime": {
     "end_time": "2025-07-16T08:28:05.832601Z",
     "start_time": "2025-07-16T08:28:05.816292Z"
    }
   },
   "source": [
    "df_raw.head()"
   ],
   "outputs": [
    {
     "data": {
      "text/plain": [
       "Price        date        close         high          low         open  \\\n",
       "0      2016-01-01    47.546936    47.863565    43.457161    44.116801   \n",
       "1      2016-01-01   253.466049   254.176569   246.408238   247.260855   \n",
       "2      2016-01-01  1414.610962  1433.203829  1403.184019  1412.383638   \n",
       "3      2016-01-01   816.870239   823.237854   815.150535   819.891381   \n",
       "4      2016-01-01   439.014679   441.942094   434.769921   438.868314   \n",
       "\n",
       "Price    volume            tic  day  \n",
       "0      10963906    ADANIENT.NS    4  \n",
       "1       1347893  ADANIPORTS.NS    4  \n",
       "2        107024  APOLLOHOSP.NS    4  \n",
       "3        294006  ASIANPAINT.NS    4  \n",
       "4       3345654    AXISBANK.NS    4  "
      ],
      "text/html": [
       "<div>\n",
       "<style scoped>\n",
       "    .dataframe tbody tr th:only-of-type {\n",
       "        vertical-align: middle;\n",
       "    }\n",
       "\n",
       "    .dataframe tbody tr th {\n",
       "        vertical-align: top;\n",
       "    }\n",
       "\n",
       "    .dataframe thead th {\n",
       "        text-align: right;\n",
       "    }\n",
       "</style>\n",
       "<table border=\"1\" class=\"dataframe\">\n",
       "  <thead>\n",
       "    <tr style=\"text-align: right;\">\n",
       "      <th>Price</th>\n",
       "      <th>date</th>\n",
       "      <th>close</th>\n",
       "      <th>high</th>\n",
       "      <th>low</th>\n",
       "      <th>open</th>\n",
       "      <th>volume</th>\n",
       "      <th>tic</th>\n",
       "      <th>day</th>\n",
       "    </tr>\n",
       "  </thead>\n",
       "  <tbody>\n",
       "    <tr>\n",
       "      <th>0</th>\n",
       "      <td>2016-01-01</td>\n",
       "      <td>47.546936</td>\n",
       "      <td>47.863565</td>\n",
       "      <td>43.457161</td>\n",
       "      <td>44.116801</td>\n",
       "      <td>10963906</td>\n",
       "      <td>ADANIENT.NS</td>\n",
       "      <td>4</td>\n",
       "    </tr>\n",
       "    <tr>\n",
       "      <th>1</th>\n",
       "      <td>2016-01-01</td>\n",
       "      <td>253.466049</td>\n",
       "      <td>254.176569</td>\n",
       "      <td>246.408238</td>\n",
       "      <td>247.260855</td>\n",
       "      <td>1347893</td>\n",
       "      <td>ADANIPORTS.NS</td>\n",
       "      <td>4</td>\n",
       "    </tr>\n",
       "    <tr>\n",
       "      <th>2</th>\n",
       "      <td>2016-01-01</td>\n",
       "      <td>1414.610962</td>\n",
       "      <td>1433.203829</td>\n",
       "      <td>1403.184019</td>\n",
       "      <td>1412.383638</td>\n",
       "      <td>107024</td>\n",
       "      <td>APOLLOHOSP.NS</td>\n",
       "      <td>4</td>\n",
       "    </tr>\n",
       "    <tr>\n",
       "      <th>3</th>\n",
       "      <td>2016-01-01</td>\n",
       "      <td>816.870239</td>\n",
       "      <td>823.237854</td>\n",
       "      <td>815.150535</td>\n",
       "      <td>819.891381</td>\n",
       "      <td>294006</td>\n",
       "      <td>ASIANPAINT.NS</td>\n",
       "      <td>4</td>\n",
       "    </tr>\n",
       "    <tr>\n",
       "      <th>4</th>\n",
       "      <td>2016-01-01</td>\n",
       "      <td>439.014679</td>\n",
       "      <td>441.942094</td>\n",
       "      <td>434.769921</td>\n",
       "      <td>438.868314</td>\n",
       "      <td>3345654</td>\n",
       "      <td>AXISBANK.NS</td>\n",
       "      <td>4</td>\n",
       "    </tr>\n",
       "  </tbody>\n",
       "</table>\n",
       "</div>"
      ]
     },
     "execution_count": 36,
     "metadata": {},
     "output_type": "execute_result"
    }
   ],
   "execution_count": 36
  },
  {
   "cell_type": "markdown",
   "metadata": {
    "id": "uqC6c40Zh1iH"
   },
   "source": [
    "# Part 3: Preprocess Data\n",
    "We need to check for missing data and do feature engineering to convert the data point into a state.\n",
    "* **Adding technical indicators**. In practical trading, various information needs to be taken into account, such as historical prices, current holding shares, technical indicators, etc. Here, we demonstrate two trend-following technical indicators: MACD and RSI.\n",
    "* **Adding turbulence index**. Risk-aversion reflects whether an investor prefers to protect the capital. It also influences one's trading strategy when facing different market volatility level. To control the risk in a worst-case scenario, such as financial crisis of 2007–2008, FinRL employs the turbulence index that measures extreme fluctuation of asset price."
   ]
  },
  {
   "cell_type": "markdown",
   "metadata": {
    "id": "1lQxLyWpdbAd"
   },
   "source": [
    "Hear let's take **MACD** as an example. Moving average convergence/divergence (MACD) is one of the most commonly used indicator showing bull and bear market. Its calculation is based on EMA (Exponential Moving Average indicator, measuring trend direction over a period of time.)"
   ]
  },
  {
   "cell_type": "code",
   "metadata": {
    "colab": {
     "base_uri": "https://localhost:8080/"
    },
    "id": "PmKP-1ii3RLS",
    "outputId": "d514cf1a-8609-402e-ad58-df5f9100ec85",
    "ExecuteTime": {
     "end_time": "2025-07-16T08:28:30.137395Z",
     "start_time": "2025-07-16T08:28:06.002265Z"
    }
   },
   "source": [
    "fe = FeatureEngineer(use_technical_indicator=True,\n",
    "                     tech_indicator_list = INDICATORS,\n",
    "                     use_vix=False,#volatility index\n",
    "                     use_turbulence=True,\n",
    "                     user_defined_feature = False)\n",
    "\n",
    "processed = fe.preprocess_data(df_raw)"
   ],
   "outputs": [
    {
     "name": "stdout",
     "output_type": "stream",
     "text": [
      "Successfully added technical indicators\n",
      "Successfully added turbulence index\n"
     ]
    }
   ],
   "execution_count": 37
  },
  {
   "cell_type": "code",
   "metadata": {
    "id": "Kixon2tR3RLT",
    "ExecuteTime": {
     "end_time": "2025-07-16T08:28:30.467640Z",
     "start_time": "2025-07-16T08:28:30.256799Z"
    }
   },
   "source": [
    "list_ticker = processed[\"tic\"].unique().tolist()\n",
    "list_date = list(pd.date_range(processed['date'].min(),processed['date'].max()).astype(str))\n",
    "combination = list(itertools.product(list_date,list_ticker))\n",
    "\n",
    "processed_full = pd.DataFrame(combination,columns=[\"date\",\"tic\"]).merge(processed,on=[\"date\",\"tic\"],how=\"left\")\n",
    "processed_full = processed_full[processed_full['date'].isin(processed['date'])]\n",
    "processed_full = processed_full.sort_values(['date','tic'])\n",
    "\n",
    "processed_full = processed_full.fillna(0)"
   ],
   "outputs": [],
   "execution_count": 38
  },
  {
   "cell_type": "code",
   "metadata": {
    "colab": {
     "base_uri": "https://localhost:8080/",
     "height": 357
    },
    "id": "HwKJNWJSabNK",
    "outputId": "16c8080e-91b0-4e8d-9a09-44939ac69801",
    "ExecuteTime": {
     "end_time": "2025-07-16T08:28:30.626227Z",
     "start_time": "2025-07-16T08:28:30.612225Z"
    }
   },
   "source": [
    "processed_full.head()"
   ],
   "outputs": [
    {
     "data": {
      "text/plain": [
       "         date            tic        close         high          low  \\\n",
       "0  2016-01-01    ADANIENT.NS    47.546936    47.863565    43.457161   \n",
       "1  2016-01-01  ADANIPORTS.NS   253.466049   254.176569   246.408238   \n",
       "2  2016-01-01  APOLLOHOSP.NS  1414.610962  1433.203829  1403.184019   \n",
       "3  2016-01-01  ASIANPAINT.NS   816.870239   823.237854   815.150535   \n",
       "4  2016-01-01    AXISBANK.NS   439.014679   441.942094   434.769921   \n",
       "\n",
       "          open      volume  day  macd    boll_ub    boll_lb  rsi_30  \\\n",
       "0    44.116801  10963906.0  4.0   0.0  49.959148  42.496159     0.0   \n",
       "1   247.260855   1347893.0  4.0   0.0  49.959148  42.496159     0.0   \n",
       "2  1412.383638    107024.0  4.0   0.0  49.959148  42.496159     0.0   \n",
       "3   819.891381    294006.0  4.0   0.0  49.959148  42.496159     0.0   \n",
       "4   438.868314   3345654.0  4.0   0.0  49.959148  42.496159     0.0   \n",
       "\n",
       "      cci_30  dx_30  close_30_sma  close_60_sma  turbulence  \n",
       "0 -66.666667  100.0     47.546936     47.546936         0.0  \n",
       "1 -66.666667  100.0    253.466049    253.466049         0.0  \n",
       "2 -66.666667  100.0   1414.610962   1414.610962         0.0  \n",
       "3 -66.666667  100.0    816.870239    816.870239         0.0  \n",
       "4 -66.666667  100.0    439.014679    439.014679         0.0  "
      ],
      "text/html": [
       "<div>\n",
       "<style scoped>\n",
       "    .dataframe tbody tr th:only-of-type {\n",
       "        vertical-align: middle;\n",
       "    }\n",
       "\n",
       "    .dataframe tbody tr th {\n",
       "        vertical-align: top;\n",
       "    }\n",
       "\n",
       "    .dataframe thead th {\n",
       "        text-align: right;\n",
       "    }\n",
       "</style>\n",
       "<table border=\"1\" class=\"dataframe\">\n",
       "  <thead>\n",
       "    <tr style=\"text-align: right;\">\n",
       "      <th></th>\n",
       "      <th>date</th>\n",
       "      <th>tic</th>\n",
       "      <th>close</th>\n",
       "      <th>high</th>\n",
       "      <th>low</th>\n",
       "      <th>open</th>\n",
       "      <th>volume</th>\n",
       "      <th>day</th>\n",
       "      <th>macd</th>\n",
       "      <th>boll_ub</th>\n",
       "      <th>boll_lb</th>\n",
       "      <th>rsi_30</th>\n",
       "      <th>cci_30</th>\n",
       "      <th>dx_30</th>\n",
       "      <th>close_30_sma</th>\n",
       "      <th>close_60_sma</th>\n",
       "      <th>turbulence</th>\n",
       "    </tr>\n",
       "  </thead>\n",
       "  <tbody>\n",
       "    <tr>\n",
       "      <th>0</th>\n",
       "      <td>2016-01-01</td>\n",
       "      <td>ADANIENT.NS</td>\n",
       "      <td>47.546936</td>\n",
       "      <td>47.863565</td>\n",
       "      <td>43.457161</td>\n",
       "      <td>44.116801</td>\n",
       "      <td>10963906.0</td>\n",
       "      <td>4.0</td>\n",
       "      <td>0.0</td>\n",
       "      <td>49.959148</td>\n",
       "      <td>42.496159</td>\n",
       "      <td>0.0</td>\n",
       "      <td>-66.666667</td>\n",
       "      <td>100.0</td>\n",
       "      <td>47.546936</td>\n",
       "      <td>47.546936</td>\n",
       "      <td>0.0</td>\n",
       "    </tr>\n",
       "    <tr>\n",
       "      <th>1</th>\n",
       "      <td>2016-01-01</td>\n",
       "      <td>ADANIPORTS.NS</td>\n",
       "      <td>253.466049</td>\n",
       "      <td>254.176569</td>\n",
       "      <td>246.408238</td>\n",
       "      <td>247.260855</td>\n",
       "      <td>1347893.0</td>\n",
       "      <td>4.0</td>\n",
       "      <td>0.0</td>\n",
       "      <td>49.959148</td>\n",
       "      <td>42.496159</td>\n",
       "      <td>0.0</td>\n",
       "      <td>-66.666667</td>\n",
       "      <td>100.0</td>\n",
       "      <td>253.466049</td>\n",
       "      <td>253.466049</td>\n",
       "      <td>0.0</td>\n",
       "    </tr>\n",
       "    <tr>\n",
       "      <th>2</th>\n",
       "      <td>2016-01-01</td>\n",
       "      <td>APOLLOHOSP.NS</td>\n",
       "      <td>1414.610962</td>\n",
       "      <td>1433.203829</td>\n",
       "      <td>1403.184019</td>\n",
       "      <td>1412.383638</td>\n",
       "      <td>107024.0</td>\n",
       "      <td>4.0</td>\n",
       "      <td>0.0</td>\n",
       "      <td>49.959148</td>\n",
       "      <td>42.496159</td>\n",
       "      <td>0.0</td>\n",
       "      <td>-66.666667</td>\n",
       "      <td>100.0</td>\n",
       "      <td>1414.610962</td>\n",
       "      <td>1414.610962</td>\n",
       "      <td>0.0</td>\n",
       "    </tr>\n",
       "    <tr>\n",
       "      <th>3</th>\n",
       "      <td>2016-01-01</td>\n",
       "      <td>ASIANPAINT.NS</td>\n",
       "      <td>816.870239</td>\n",
       "      <td>823.237854</td>\n",
       "      <td>815.150535</td>\n",
       "      <td>819.891381</td>\n",
       "      <td>294006.0</td>\n",
       "      <td>4.0</td>\n",
       "      <td>0.0</td>\n",
       "      <td>49.959148</td>\n",
       "      <td>42.496159</td>\n",
       "      <td>0.0</td>\n",
       "      <td>-66.666667</td>\n",
       "      <td>100.0</td>\n",
       "      <td>816.870239</td>\n",
       "      <td>816.870239</td>\n",
       "      <td>0.0</td>\n",
       "    </tr>\n",
       "    <tr>\n",
       "      <th>4</th>\n",
       "      <td>2016-01-01</td>\n",
       "      <td>AXISBANK.NS</td>\n",
       "      <td>439.014679</td>\n",
       "      <td>441.942094</td>\n",
       "      <td>434.769921</td>\n",
       "      <td>438.868314</td>\n",
       "      <td>3345654.0</td>\n",
       "      <td>4.0</td>\n",
       "      <td>0.0</td>\n",
       "      <td>49.959148</td>\n",
       "      <td>42.496159</td>\n",
       "      <td>0.0</td>\n",
       "      <td>-66.666667</td>\n",
       "      <td>100.0</td>\n",
       "      <td>439.014679</td>\n",
       "      <td>439.014679</td>\n",
       "      <td>0.0</td>\n",
       "    </tr>\n",
       "  </tbody>\n",
       "</table>\n",
       "</div>"
      ]
     },
     "execution_count": 39,
     "metadata": {},
     "output_type": "execute_result"
    }
   ],
   "execution_count": 39
  },
  {
   "cell_type": "markdown",
   "metadata": {
    "id": "ydLNxwdPIJhW"
   },
   "source": [
    "# Part 4: Save the Data"
   ]
  },
  {
   "cell_type": "markdown",
   "metadata": {
    "id": "VbMDnfukILc_"
   },
   "source": [
    "### Split the data for training and trading"
   ]
  },
  {
   "cell_type": "code",
   "metadata": {
    "colab": {
     "base_uri": "https://localhost:8080/"
    },
    "id": "iEiXDdUhZP7R",
    "outputId": "554b1c09-6d6f-48fb-c724-351b40a2ddaf",
    "ExecuteTime": {
     "end_time": "2025-07-16T08:28:30.864326Z",
     "start_time": "2025-07-16T08:28:30.803499Z"
    }
   },
   "source": [
    "train = data_split(processed_full, TRAIN_START_DATE,TRAIN_END_DATE)\n",
    "trade = data_split(processed_full, TRADE_START_DATE,TRADE_END_DATE)\n",
    "print(len(train))\n",
    "print(len(trade))"
   ],
   "outputs": [
    {
     "name": "stdout",
     "output_type": "stream",
     "text": [
      "45218\n",
      "34362\n"
     ]
    }
   ],
   "execution_count": 40
  },
  {
   "cell_type": "markdown",
   "metadata": {
    "id": "DflbzEV8IRhF"
   },
   "source": [
    "### Save data to csv file"
   ]
  },
  {
   "cell_type": "markdown",
   "metadata": {
    "id": "Tud3IZDzIUpd"
   },
   "source": [
    "For Colab users, you can open the virtual directory in colab and manually download the files.\n",
    "\n",
    "For users running on your local environment, the csv files should be at the same directory of this notebook."
   ]
  },
  {
   "metadata": {
    "ExecuteTime": {
     "end_time": "2025-07-16T08:28:32.237040Z",
     "start_time": "2025-07-16T08:28:30.989364Z"
    }
   },
   "cell_type": "code",
   "source": [
    "train.to_csv('train_data.csv')\n",
    "trade.to_csv('trade_data.csv')"
   ],
   "outputs": [],
   "execution_count": 41
  },
  {
   "metadata": {},
   "cell_type": "markdown",
   "source": "# Part 5: Additional Data Processing for Dynamic Weighting"
  },
  {
   "metadata": {},
   "cell_type": "markdown",
   "source": "For dynamic weighting, we need to prepare additional features that will help predict strategy performance. This includes volatility measures, momentum indicators, and market regime features."
  },
  {
   "metadata": {
    "ExecuteTime": {
     "end_time": "2025-07-16T08:28:32.383675Z",
     "start_time": "2025-07-16T08:28:32.376928Z"
    }
   },
   "cell_type": "code",
   "source": [
    "# Additional imports for dynamic weighting\n",
    "import torch\n",
    "import torch.nn as nn\n",
    "from torch.utils.data import Dataset, DataLoader\n",
    "from sklearn.preprocessing import StandardScaler\n",
    "import seaborn as sns\n",
    "import warnings\n",
    "warnings.filterwarnings('ignore')\n",
    "\n",
    "print(\"✅ Dynamic weighting libraries loaded successfully!\")"
   ],
   "outputs": [
    {
     "name": "stdout",
     "output_type": "stream",
     "text": [
      "✅ Dynamic weighting libraries loaded successfully!\n"
     ]
    }
   ],
   "execution_count": 42
  },
  {
   "metadata": {
    "ExecuteTime": {
     "end_time": "2025-07-16T08:28:32.505862Z",
     "start_time": "2025-07-16T08:28:32.497654Z"
    }
   },
   "cell_type": "code",
   "source": [
    "def create_market_regime_features(df):\n",
    "    \"\"\"\n",
    "    Create market regime features for dynamic weighting\n",
    "    These features help predict which RL strategies will perform better\n",
    "    \"\"\"\n",
    "    print(\"🔄 Creating market regime features...\")\n",
    "\n",
    "    # Calculate market-wide indicators\n",
    "    market_data = df.groupby('date').agg({\n",
    "        'close': 'mean',\n",
    "        'volume': 'sum',\n",
    "        'turbulence': 'mean'\n",
    "    }).reset_index()\n",
    "\n",
    "    # Market volatility (rolling 5-day)\n",
    "    market_data['market_volatility'] = market_data['close'].pct_change().rolling(5).std()\n",
    "\n",
    "    # Market momentum (rolling 10-day)\n",
    "    market_data['market_momentum'] = market_data['close'].pct_change().rolling(10).mean()\n",
    "\n",
    "    # Market trend (20-day moving average slope)\n",
    "    market_data['ma_20'] = market_data['close'].rolling(20).mean()\n",
    "    market_data['market_trend'] = market_data['ma_20'].diff()\n",
    "\n",
    "    # Volume pressure\n",
    "    market_data['volume_pressure'] = market_data['volume'].rolling(5).mean() / market_data['volume'].rolling(20).mean()\n",
    "\n",
    "    # Market regime classification\n",
    "    market_data['regime_bull'] = (market_data['market_momentum'] > 0.001).astype(int)\n",
    "    market_data['regime_bear'] = (market_data['market_momentum'] < -0.001).astype(int)\n",
    "    market_data['regime_sideways'] = ((market_data['market_momentum'] >= -0.001) &\n",
    "                                     (market_data['market_momentum'] <= 0.001)).astype(int)\n",
    "\n",
    "    # Fill NaN values\n",
    "    market_data = market_data.fillna(0)\n",
    "\n",
    "    # Merge back with original data\n",
    "    df_enhanced = df.merge(market_data[['date', 'market_volatility', 'market_momentum',\n",
    "                                       'market_trend', 'volume_pressure', 'regime_bull',\n",
    "                                       'regime_bear', 'regime_sideways']],\n",
    "                          on='date', how='left')\n",
    "\n",
    "    print(f\"✅ Added {len(market_data.columns) - 4} market regime features\")\n",
    "    return df_enhanced\n"
   ],
   "outputs": [],
   "execution_count": 43
  },
  {
   "metadata": {
    "ExecuteTime": {
     "end_time": "2025-07-16T08:28:32.622817Z",
     "start_time": "2025-07-16T08:28:32.612800Z"
    }
   },
   "cell_type": "code",
   "source": [
    "def create_technical_features(df):\n",
    "    \"\"\"\n",
    "    Create additional technical features for each stock\n",
    "    \"\"\"\n",
    "    print(\"🔄 Creating additional technical features...\")\n",
    "\n",
    "    df_tech = df.copy()\n",
    "\n",
    "    # Group by ticker to calculate stock-specific features\n",
    "    for ticker in df_tech['tic'].unique():\n",
    "        mask = df_tech['tic'] == ticker\n",
    "\n",
    "        # Price-based features\n",
    "        df_tech.loc[mask, 'price_momentum_3'] = df_tech.loc[mask, 'close'].pct_change(3)\n",
    "        df_tech.loc[mask, 'price_momentum_5'] = df_tech.loc[mask, 'close'].pct_change(5)\n",
    "        df_tech.loc[mask, 'price_volatility_5'] = df_tech.loc[mask, 'close'].pct_change().rolling(5).std()\n",
    "        df_tech.loc[mask, 'price_volatility_10'] = df_tech.loc[mask, 'close'].pct_change().rolling(10).std()\n",
    "\n",
    "        # Volume-based features\n",
    "        df_tech.loc[mask, 'volume_ma_ratio'] = (df_tech.loc[mask, 'volume'] /\n",
    "                                               df_tech.loc[mask, 'volume'].rolling(20).mean())\n",
    "\n",
    "        # Bollinger Bands\n",
    "        rolling_mean = df_tech.loc[mask, 'close'].rolling(20).mean()\n",
    "        rolling_std = df_tech.loc[mask, 'close'].rolling(20).std()\n",
    "        df_tech.loc[mask, 'bb_upper'] = rolling_mean + (rolling_std * 2)\n",
    "        df_tech.loc[mask, 'bb_lower'] = rolling_mean - (rolling_std * 2)\n",
    "        df_tech.loc[mask, 'bb_position'] = ((df_tech.loc[mask, 'close'] - df_tech.loc[mask, 'bb_lower']) /\n",
    "                                           (df_tech.loc[mask, 'bb_upper'] - df_tech.loc[mask, 'bb_lower']))\n",
    "\n",
    "        # Support/Resistance levels\n",
    "        df_tech.loc[mask, 'support_level'] = df_tech.loc[mask, 'low'].rolling(20).min()\n",
    "        df_tech.loc[mask, 'resistance_level'] = df_tech.loc[mask, 'high'].rolling(20).max()\n",
    "        df_tech.loc[mask, 'support_distance'] = (df_tech.loc[mask, 'close'] - df_tech.loc[mask, 'support_level']) / df_tech.loc[mask, 'close']\n",
    "        df_tech.loc[mask, 'resistance_distance'] = (df_tech.loc[mask, 'resistance_level'] - df_tech.loc[mask, 'close']) / df_tech.loc[mask, 'close']\n",
    "\n",
    "    # Fill NaN values\n",
    "    df_tech = df_tech.fillna(0)\n",
    "\n",
    "    print(\"✅ Additional technical features created\")\n",
    "    return df_tech\n"
   ],
   "outputs": [],
   "execution_count": 44
  },
  {
   "metadata": {
    "ExecuteTime": {
     "end_time": "2025-07-16T08:28:32.739773Z",
     "start_time": "2025-07-16T08:28:32.732241Z"
    }
   },
   "cell_type": "code",
   "source": [
    "def prepare_dynamic_weighting_data(df):\n",
    "    \"\"\"\n",
    "    Prepare comprehensive dataset for dynamic weighting system\n",
    "    \"\"\"\n",
    "    print(\"🚀 Preparing data for dynamic weighting system...\")\n",
    "\n",
    "    # Create market regime features\n",
    "    df_market = create_market_regime_features(df)\n",
    "\n",
    "    # Create additional technical features\n",
    "    df_final = create_technical_features(df_market)\n",
    "\n",
    "    # Create feature summary\n",
    "    feature_cols = [col for col in df_final.columns if col not in ['date', 'tic', 'day']]\n",
    "\n",
    "    print(f\"\\n📊 Dynamic Weighting Dataset Summary:\")\n",
    "    print(f\"   • Total features: {len(feature_cols)}\")\n",
    "    print(f\"   • Market regime features: 7\")\n",
    "    print(f\"   • Technical features: {len([col for col in feature_cols if any(x in col for x in ['momentum', 'volatility', 'bb_', 'support', 'resistance'])])}\")\n",
    "    print(f\"   • Original FinRL features: {len(feature_cols) - 7 - 12}\")\n",
    "    print(f\"   • Date range: {df_final['date'].min()} to {df_final['date'].max()}\")\n",
    "    print(f\"   • Total records: {len(df_final)}\")\n",
    "\n",
    "    return df_final\n"
   ],
   "outputs": [],
   "execution_count": 45
  },
  {
   "metadata": {
    "ExecuteTime": {
     "end_time": "2025-07-16T08:28:33.799055Z",
     "start_time": "2025-07-16T08:28:32.826724Z"
    }
   },
   "cell_type": "code",
   "source": [
    "# Apply dynamic weighting data preparation\n",
    "print(\"🔄 Enhancing dataset for dynamic weighting...\")\n",
    "processed_dw = prepare_dynamic_weighting_data(processed_full)\n",
    "\n",
    "print(\"✅ Dynamic weighting data preparation complete!\")"
   ],
   "outputs": [
    {
     "name": "stdout",
     "output_type": "stream",
     "text": [
      "🔄 Enhancing dataset for dynamic weighting...\n",
      "🚀 Preparing data for dynamic weighting system...\n",
      "🔄 Creating market regime features...\n",
      "✅ Added 8 market regime features\n",
      "🔄 Creating additional technical features...\n",
      "✅ Additional technical features created\n",
      "\n",
      "📊 Dynamic Weighting Dataset Summary:\n",
      "   • Total features: 33\n",
      "   • Market regime features: 7\n",
      "   • Technical features: 13\n",
      "   • Original FinRL features: 14\n",
      "   • Date range: 2016-01-01 to 2022-12-30\n",
      "   • Total records: 79580\n",
      "✅ Dynamic weighting data preparation complete!\n"
     ]
    }
   ],
   "execution_count": 46
  },
  {
   "metadata": {},
   "cell_type": "markdown",
   "source": "# Part 6: Enhanced Data Splitting and Saving"
  },
  {
   "metadata": {},
   "cell_type": "markdown",
   "source": "### Split the data for training and trading (Enhanced)"
  },
  {
   "metadata": {
    "ExecuteTime": {
     "end_time": "2025-07-16T08:28:34.018455Z",
     "start_time": "2025-07-16T08:28:33.867990Z"
    }
   },
   "cell_type": "code",
   "source": [
    "# Split data with enhanced features\n",
    "train_dw = data_split(processed_dw, TRAIN_START_DATE, TRAIN_END_DATE)\n",
    "trade_dw = data_split(processed_dw, TRADE_START_DATE, TRADE_END_DATE)\n",
    "\n",
    "print(f\"Enhanced Training Data: {len(train_dw)} records\")\n",
    "print(f\"Enhanced Trading Data: {len(trade_dw)} records\")\n",
    "\n",
    "# Also keep original data for compatibility\n",
    "train = data_split(processed_full, TRAIN_START_DATE, TRAIN_END_DATE)\n",
    "trade = data_split(processed_full, TRADE_START_DATE, TRADE_END_DATE)\n",
    "\n",
    "print(f\"Original Training Data: {len(train)} records\")\n",
    "print(f\"Original Trading Data: {len(trade)} records\")"
   ],
   "outputs": [
    {
     "name": "stdout",
     "output_type": "stream",
     "text": [
      "Enhanced Training Data: 45218 records\n",
      "Enhanced Trading Data: 34362 records\n",
      "Original Training Data: 45218 records\n",
      "Original Trading Data: 34362 records\n"
     ]
    }
   ],
   "execution_count": 47
  },
  {
   "metadata": {
    "ExecuteTime": {
     "end_time": "2025-07-16T08:28:38.022946Z",
     "start_time": "2025-07-16T08:28:34.089445Z"
    }
   },
   "cell_type": "code",
   "source": [
    "# Save enhanced datasets\n",
    "print(\"💾 Saving enhanced datasets...\")\n",
    "\n",
    "# Save enhanced data for dynamic weighting\n",
    "train_dw.to_csv('train_data_enhanced.csv')\n",
    "trade_dw.to_csv('trade_data_enhanced.csv')\n",
    "\n",
    "# Save original data (for compatibility)\n",
    "train.to_csv('train_data.csv')\n",
    "trade.to_csv('trade_data.csv')\n",
    "\n",
    "print(\"✅ All datasets saved successfully!\")\n",
    "print(\"\\n📁 Files created:\")\n",
    "print(\"   • train_data.csv (original)\")\n",
    "print(\"   • trade_data.csv (original)\")\n",
    "print(\"   • train_data_enhanced.csv (for dynamic weighting)\")\n",
    "print(\"   • trade_data_enhanced.csv (for dynamic weighting)\")"
   ],
   "outputs": [
    {
     "name": "stdout",
     "output_type": "stream",
     "text": [
      "💾 Saving enhanced datasets...\n",
      "✅ All datasets saved successfully!\n",
      "\n",
      "📁 Files created:\n",
      "   • train_data.csv (original)\n",
      "   • trade_data.csv (original)\n",
      "   • train_data_enhanced.csv (for dynamic weighting)\n",
      "   • trade_data_enhanced.csv (for dynamic weighting)\n"
     ]
    }
   ],
   "execution_count": 48
  },
  {
   "metadata": {},
   "cell_type": "markdown",
   "source": "# Part 7: Data Visualization for Dynamic Weighting"
  },
  {
   "metadata": {
    "ExecuteTime": {
     "end_time": "2025-07-16T08:28:38.360324Z",
     "start_time": "2025-07-16T08:28:38.086409Z"
    }
   },
   "cell_type": "code",
   "source": [
    "# Visualize market regime features\n",
    "import matplotlib.pyplot as plt\n",
    "fig, axes = plt.subplots(2, 2, figsize=(15, 10))\n",
    "\n",
    "# Market volatility over time\n",
    "market_summary = processed_dw.groupby('date').first().reset_index()\n",
    "axes[0, 0].plot(pd.to_datetime(market_summary['date']), market_summary['market_volatility'])\n",
    "axes[0, 0].set_title('Market Volatility Over Time')\n",
    "axes[0, 0].set_xlabel('Date')\n",
    "axes[0, 0].set_ylabel('Volatility')\n",
    "axes[0, 0].grid(True, alpha=0.3)\n",
    "\n",
    "# Market momentum\n",
    "axes[0, 1].plot(pd.to_datetime(market_summary['date']), market_summary['market_momentum'])\n",
    "axes[0, 1].set_title('Market Momentum Over Time')\n",
    "axes[0, 1].set_xlabel('Date')\n",
    "axes[0, 1].set_ylabel('Momentum')\n",
    "axes[0, 1].grid(True, alpha=0.3)\n",
    "\n",
    "# Market regimes\n",
    "regime_data = market_summary[['regime_bull', 'regime_bear', 'regime_sideways']].sum()\n",
    "axes[1, 0].bar(regime_data.index, regime_data.values, color=['green', 'red', 'gray'])\n",
    "axes[1, 0].set_title('Market Regime Distribution')\n",
    "axes[1, 0].set_ylabel('Days')\n",
    "\n",
    "# Turbulence vs Market Volatility\n",
    "axes[1, 1].scatter(market_summary['turbulence'], market_summary['market_volatility'], alpha=0.6)\n",
    "axes[1, 1].set_title('Turbulence vs Market Volatility')\n",
    "axes[1, 1].set_xlabel('Turbulence')\n",
    "axes[1, 1].set_ylabel('Market Volatility')\n",
    "axes[1, 1].grid(True, alpha=0.3)\n",
    "\n",
    "plt.tight_layout()\n",
    "plt.show()\n",
    "\n",
    "print(\"📊 Market regime visualization complete!\")"
   ],
   "outputs": [
    {
     "name": "stdout",
     "output_type": "stream",
     "text": [
      "📊 Market regime visualization complete!\n"
     ]
    }
   ],
   "execution_count": 49
  },
  {
   "metadata": {
    "ExecuteTime": {
     "end_time": "2025-07-16T08:28:38.601262Z",
     "start_time": "2025-07-16T08:28:38.426726Z"
    }
   },
   "cell_type": "code",
   "source": [
    "# Feature correlation heatmap\n",
    "print(\"🔍 Analyzing feature correlations...\")\n",
    "\n",
    "# Select key features for correlation analysis\n",
    "key_features = ['market_volatility', 'market_momentum', 'market_trend', 'volume_pressure',\n",
    "               'turbulence', 'macd', 'rsi_30', 'cci_30', 'dx_30']\n",
    "\n",
    "# Get correlation matrix\n",
    "sample_data = processed_dw.groupby('date').first()[key_features].fillna(0)\n",
    "correlation_matrix = sample_data.corr()\n",
    "\n",
    "# Plot heatmap\n",
    "plt.figure(figsize=(12, 8))\n",
    "sns.heatmap(correlation_matrix, annot=True, cmap='coolwarm', center=0,\n",
    "            fmt='.2f', square=True, cbar_kws={'label': 'Correlation'})\n",
    "plt.title('Feature Correlation Matrix for Dynamic Weighting')\n",
    "plt.tight_layout()\n",
    "plt.show()\n",
    "\n",
    "print(\"✅ Feature correlation analysis complete!\")\n",
    "print(\"\\n🎯 Key Insights:\")\n",
    "print(\"   • Market volatility and momentum are key predictive features\")\n",
    "print(\"   • Technical indicators provide complementary information\")\n",
    "print(\"   • Low correlation between features suggests good feature diversity\")\n",
    "print(\"   • Data is ready for dynamic weighting model training!\")\n"
   ],
   "outputs": [
    {
     "name": "stdout",
     "output_type": "stream",
     "text": [
      "🔍 Analyzing feature correlations...\n",
      "✅ Feature correlation analysis complete!\n",
      "\n",
      "🎯 Key Insights:\n",
      "   • Market volatility and momentum are key predictive features\n",
      "   • Technical indicators provide complementary information\n",
      "   • Low correlation between features suggests good feature diversity\n",
      "   • Data is ready for dynamic weighting model training!\n"
     ]
    }
   ],
   "execution_count": 50
  }
 ],
 "metadata": {
  "colab": {
   "provenance": []
  },
  "kernelspec": {
   "display_name": "Python 3",
   "name": "python3"
  },
  "language_info": {
   "name": "python"
  }
 },
 "nbformat": 4,
 "nbformat_minor": 0
}
